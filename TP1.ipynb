{
 "cells": [
  {
   "cell_type": "markdown",
   "metadata": {},
   "source": [
    "# Estimación de peso y dimensiones de los envíos de Mercado Libre\n",
    "\n",
    "# Materia: Análisis y Visualización de Datos\n",
    "\n"
   ]
  },
  {
   "cell_type": "code",
   "execution_count": 44,
   "metadata": {},
   "outputs": [],
   "source": [
    "import pandas as pd\n",
    "import random\n",
    "import matplotlib.pyplot as plt\n",
    "import numpy\n",
    "import seaborn\n",
    "import scipy as sc"
   ]
  },
  {
   "cell_type": "code",
   "execution_count": 45,
   "metadata": {},
   "outputs": [],
   "source": [
    "random.seed(0)"
   ]
  },
  {
   "cell_type": "markdown",
   "metadata": {},
   "source": [
    "El dataset corresponde a un muestreo de envíos durante tres meses de 2018 en MLB (Mercado Libre Brasil), filtrados según métodos de envíos y por carriers (empresas de correos a cargo del envío propiamente dicho). A su vez, fue muestreado de forma no uniforme para romper de forma manual la distribución de los datos.\n",
    "Los datos son:[meli_dataset_20190426.csv] (https://drive.google.com/open?id=1tNUKD1lf1z8C7LPpCruiDl6SKBAHb79v)."
   ]
  },
  {
   "cell_type": "code",
   "execution_count": 46,
   "metadata": {},
   "outputs": [],
   "source": [
    "DATASET = 'meli_dataset_20190426.csv'"
   ]
  },
  {
   "cell_type": "code",
   "execution_count": 47,
   "metadata": {},
   "outputs": [],
   "source": [
    "df = pd.read_csv(DATASET, low_memory=False)"
   ]
  },
  {
   "cell_type": "code",
   "execution_count": 48,
   "metadata": {},
   "outputs": [
    {
     "data": {
      "text/plain": [
       "Index(['ITEM_ID', 'SHP_WEIGHT', 'SHP_LENGTH', 'SHP_WIDTH', 'SHP_HEIGHT',\n",
       "       'ATTRIBUTES', 'CATALOG_PRODUCT_ID', 'CONDITION', 'DOMAIN_ID', 'PRICE',\n",
       "       'SELLER_ID', 'STATUS', 'TITLE'],\n",
       "      dtype='object')"
      ]
     },
     "execution_count": 48,
     "metadata": {},
     "output_type": "execute_result"
    }
   ],
   "source": [
    "df.columns"
   ]
  },
  {
   "cell_type": "markdown",
   "metadata": {},
   "source": [
    "#### ¿Qué significa cada columna?\n",
    "\n",
    "* ITEM_ID: id unívoco de cada item publicado. (Ofuscado)\n",
    "* SHP_WEIGHT: peso del paquete informado por el correo.\n",
    "* SHP_LENGTH: largo del paquete informado por el correo.\n",
    "* SHP_WIDTH: ancho del paquete informado por el correo.\n",
    "* SHP_HEIGHT: altura del paquete informado por el correo.\n",
    "* ATTRIBUTES: atributos como marca y modelo, entre otros, en formato json-lines\n",
    "* CATALOG_PRODUCT_ID: id del catálogo (ofuscado).\n",
    "* CONDITION: condición de venta (nuevo o usado).\n",
    "* DOMAIN_ID: id de la categoría a la que pertenece la publicación.\n",
    "* PRICE: precio en reales.\n",
    "* SELLER_ID: id del vendedor (ofuscado).\n",
    "* STATUS: estado de la publicación (activa, cerrada, pausada, etc.)\n",
    "* TITLE: título de la publicación."
   ]
  },
  {
   "cell_type": "code",
   "execution_count": 49,
   "metadata": {},
   "outputs": [
    {
     "data": {
      "text/html": [
       "<div>\n",
       "<style scoped>\n",
       "    .dataframe tbody tr th:only-of-type {\n",
       "        vertical-align: middle;\n",
       "    }\n",
       "\n",
       "    .dataframe tbody tr th {\n",
       "        vertical-align: top;\n",
       "    }\n",
       "\n",
       "    .dataframe thead th {\n",
       "        text-align: right;\n",
       "    }\n",
       "</style>\n",
       "<table border=\"1\" class=\"dataframe\">\n",
       "  <thead>\n",
       "    <tr style=\"text-align: right;\">\n",
       "      <th></th>\n",
       "      <th>ITEM_ID</th>\n",
       "      <th>SHP_WEIGHT</th>\n",
       "      <th>SHP_LENGTH</th>\n",
       "      <th>SHP_WIDTH</th>\n",
       "      <th>SHP_HEIGHT</th>\n",
       "      <th>ATTRIBUTES</th>\n",
       "      <th>CATALOG_PRODUCT_ID</th>\n",
       "      <th>CONDITION</th>\n",
       "      <th>DOMAIN_ID</th>\n",
       "      <th>PRICE</th>\n",
       "      <th>SELLER_ID</th>\n",
       "      <th>STATUS</th>\n",
       "      <th>TITLE</th>\n",
       "    </tr>\n",
       "  </thead>\n",
       "  <tbody>\n",
       "    <tr>\n",
       "      <td>427581</td>\n",
       "      <td>PKHS45PN2N</td>\n",
       "      <td>990.0</td>\n",
       "      <td>25.0</td>\n",
       "      <td>15.0</td>\n",
       "      <td>3.0</td>\n",
       "      <td>NaN</td>\n",
       "      <td>H53U1H7Q5G</td>\n",
       "      <td>NaN</td>\n",
       "      <td>NaN</td>\n",
       "      <td>NaN</td>\n",
       "      <td>NaN</td>\n",
       "      <td>404</td>\n",
       "      <td>NaN</td>\n",
       "    </tr>\n",
       "    <tr>\n",
       "      <td>174614</td>\n",
       "      <td>DQTBINORUP</td>\n",
       "      <td>NaN</td>\n",
       "      <td>NaN</td>\n",
       "      <td>NaN</td>\n",
       "      <td>NaN</td>\n",
       "      <td>[{'id': 'BRAND', 'name': 'Marca', 'value_id': ...</td>\n",
       "      <td>H53U1H7Q5G</td>\n",
       "      <td>new</td>\n",
       "      <td>MLB-BIRD_EGGS_INCUBATORS</td>\n",
       "      <td>399.00</td>\n",
       "      <td>MTVI574CXQ</td>\n",
       "      <td>active</td>\n",
       "      <td>Chocadeira Automática 112 A 120 Ovos + Ovoscópio</td>\n",
       "    </tr>\n",
       "    <tr>\n",
       "      <td>195979</td>\n",
       "      <td>A52YA1KYMU</td>\n",
       "      <td>NaN</td>\n",
       "      <td>NaN</td>\n",
       "      <td>NaN</td>\n",
       "      <td>NaN</td>\n",
       "      <td>[{'id': 'ITEM_CONDITION', 'name': 'Condição do...</td>\n",
       "      <td>H53U1H7Q5G</td>\n",
       "      <td>new</td>\n",
       "      <td>MLB-HAIR_SHAMPOOS_AND_CONDITIONERS</td>\n",
       "      <td>49.50</td>\n",
       "      <td>P7409W2WQ3</td>\n",
       "      <td>paused</td>\n",
       "      <td>Óleo Banho Paixão Only You 200ml Kit C/3 Inspi...</td>\n",
       "    </tr>\n",
       "    <tr>\n",
       "      <td>211824</td>\n",
       "      <td>L8GGFIBDFY</td>\n",
       "      <td>1065.0</td>\n",
       "      <td>16.0</td>\n",
       "      <td>11.0</td>\n",
       "      <td>6.0</td>\n",
       "      <td>[{'id': 'BRAND', 'name': 'Marca', 'value_id': ...</td>\n",
       "      <td>D0CWQ3USI8</td>\n",
       "      <td>new</td>\n",
       "      <td>MLB-AUTOMOTIVE_AMPLIFIERS</td>\n",
       "      <td>649.90</td>\n",
       "      <td>HRPWQ48T51</td>\n",
       "      <td>active</td>\n",
       "      <td>Amplificador Taramps Ds 1200 1200w Rms 4 Canai...</td>\n",
       "    </tr>\n",
       "    <tr>\n",
       "      <td>158469</td>\n",
       "      <td>NVQRTW8JTZ</td>\n",
       "      <td>220.0</td>\n",
       "      <td>20.0</td>\n",
       "      <td>20.0</td>\n",
       "      <td>20.0</td>\n",
       "      <td>[{'id': 'INTERFACE', 'name': 'Interface', 'val...</td>\n",
       "      <td>OZXWQXTTK4</td>\n",
       "      <td>new</td>\n",
       "      <td>MLB-HARD_DRIVES_AND_SSDS</td>\n",
       "      <td>257.89</td>\n",
       "      <td>J44AIDDF3R</td>\n",
       "      <td>active</td>\n",
       "      <td>Hd Externo 1tb Wd Portatil Western Digital Ele...</td>\n",
       "    </tr>\n",
       "  </tbody>\n",
       "</table>\n",
       "</div>"
      ],
      "text/plain": [
       "           ITEM_ID  SHP_WEIGHT  SHP_LENGTH  SHP_WIDTH  SHP_HEIGHT  \\\n",
       "427581  PKHS45PN2N       990.0        25.0       15.0         3.0   \n",
       "174614  DQTBINORUP         NaN         NaN        NaN         NaN   \n",
       "195979  A52YA1KYMU         NaN         NaN        NaN         NaN   \n",
       "211824  L8GGFIBDFY      1065.0        16.0       11.0         6.0   \n",
       "158469  NVQRTW8JTZ       220.0        20.0       20.0        20.0   \n",
       "\n",
       "                                               ATTRIBUTES CATALOG_PRODUCT_ID  \\\n",
       "427581                                                NaN         H53U1H7Q5G   \n",
       "174614  [{'id': 'BRAND', 'name': 'Marca', 'value_id': ...         H53U1H7Q5G   \n",
       "195979  [{'id': 'ITEM_CONDITION', 'name': 'Condição do...         H53U1H7Q5G   \n",
       "211824  [{'id': 'BRAND', 'name': 'Marca', 'value_id': ...         D0CWQ3USI8   \n",
       "158469  [{'id': 'INTERFACE', 'name': 'Interface', 'val...         OZXWQXTTK4   \n",
       "\n",
       "       CONDITION                           DOMAIN_ID   PRICE   SELLER_ID  \\\n",
       "427581       NaN                                 NaN     NaN         NaN   \n",
       "174614       new            MLB-BIRD_EGGS_INCUBATORS  399.00  MTVI574CXQ   \n",
       "195979       new  MLB-HAIR_SHAMPOOS_AND_CONDITIONERS   49.50  P7409W2WQ3   \n",
       "211824       new           MLB-AUTOMOTIVE_AMPLIFIERS  649.90  HRPWQ48T51   \n",
       "158469       new            MLB-HARD_DRIVES_AND_SSDS  257.89  J44AIDDF3R   \n",
       "\n",
       "        STATUS                                              TITLE  \n",
       "427581     404                                                NaN  \n",
       "174614  active   Chocadeira Automática 112 A 120 Ovos + Ovoscópio  \n",
       "195979  paused  Óleo Banho Paixão Only You 200ml Kit C/3 Inspi...  \n",
       "211824  active  Amplificador Taramps Ds 1200 1200w Rms 4 Canai...  \n",
       "158469  active  Hd Externo 1tb Wd Portatil Western Digital Ele...  "
      ]
     },
     "execution_count": 49,
     "metadata": {},
     "output_type": "execute_result"
    }
   ],
   "source": [
    "df.sample(5)"
   ]
  },
  {
   "cell_type": "code",
   "execution_count": 50,
   "metadata": {},
   "outputs": [
    {
     "data": {
      "text/html": [
       "<div>\n",
       "<style scoped>\n",
       "    .dataframe tbody tr th:only-of-type {\n",
       "        vertical-align: middle;\n",
       "    }\n",
       "\n",
       "    .dataframe tbody tr th {\n",
       "        vertical-align: top;\n",
       "    }\n",
       "\n",
       "    .dataframe thead th {\n",
       "        text-align: right;\n",
       "    }\n",
       "</style>\n",
       "<table border=\"1\" class=\"dataframe\">\n",
       "  <thead>\n",
       "    <tr style=\"text-align: right;\">\n",
       "      <th></th>\n",
       "      <th>ITEM_ID</th>\n",
       "      <th>SHP_WEIGHT</th>\n",
       "      <th>SHP_LENGTH</th>\n",
       "      <th>SHP_WIDTH</th>\n",
       "      <th>SHP_HEIGHT</th>\n",
       "      <th>ATTRIBUTES</th>\n",
       "      <th>CATALOG_PRODUCT_ID</th>\n",
       "      <th>CONDITION</th>\n",
       "      <th>DOMAIN_ID</th>\n",
       "      <th>PRICE</th>\n",
       "      <th>SELLER_ID</th>\n",
       "      <th>STATUS</th>\n",
       "      <th>TITLE</th>\n",
       "    </tr>\n",
       "  </thead>\n",
       "  <tbody>\n",
       "    <tr>\n",
       "      <td>166112</td>\n",
       "      <td>SS0ZGFU93Q</td>\n",
       "      <td>169.0</td>\n",
       "      <td>30.0</td>\n",
       "      <td>20.0</td>\n",
       "      <td>10.0</td>\n",
       "      <td>[{'id': 'BRAND', 'name': 'Marca', 'value_id': ...</td>\n",
       "      <td>H53U1H7Q5G</td>\n",
       "      <td>new</td>\n",
       "      <td>MLB-PRESSURE_GAUGES</td>\n",
       "      <td>170.45</td>\n",
       "      <td>OI54L9XV6H</td>\n",
       "      <td>active</td>\n",
       "      <td>Hallmeter Cronomac 52mm Street Preto - Ar / Co...</td>\n",
       "    </tr>\n",
       "    <tr>\n",
       "      <td>232926</td>\n",
       "      <td>D7YHPCTQRQ</td>\n",
       "      <td>50.0</td>\n",
       "      <td>16.0</td>\n",
       "      <td>11.0</td>\n",
       "      <td>2.0</td>\n",
       "      <td>[{'id': 'BRAND', 'name': 'Marca', 'value_id': ...</td>\n",
       "      <td>H53U1H7Q5G</td>\n",
       "      <td>new</td>\n",
       "      <td>MLB-TV_REPLACEMENT_BACKLIGHT_LED_STRIPS</td>\n",
       "      <td>90.00</td>\n",
       "      <td>CZ1QS5Z3UX</td>\n",
       "      <td>paused</td>\n",
       "      <td>Led Lg 3535 6v 2w 32lb5400 39lb5400 42lb5600 5...</td>\n",
       "    </tr>\n",
       "    <tr>\n",
       "      <td>442957</td>\n",
       "      <td>FOBX52PRH8</td>\n",
       "      <td>150.0</td>\n",
       "      <td>20.0</td>\n",
       "      <td>11.0</td>\n",
       "      <td>10.0</td>\n",
       "      <td>NaN</td>\n",
       "      <td>H53U1H7Q5G</td>\n",
       "      <td>NaN</td>\n",
       "      <td>NaN</td>\n",
       "      <td>NaN</td>\n",
       "      <td>NaN</td>\n",
       "      <td>404</td>\n",
       "      <td>NaN</td>\n",
       "    </tr>\n",
       "  </tbody>\n",
       "</table>\n",
       "</div>"
      ],
      "text/plain": [
       "           ITEM_ID  SHP_WEIGHT  SHP_LENGTH  SHP_WIDTH  SHP_HEIGHT  \\\n",
       "166112  SS0ZGFU93Q       169.0        30.0       20.0        10.0   \n",
       "232926  D7YHPCTQRQ        50.0        16.0       11.0         2.0   \n",
       "442957  FOBX52PRH8       150.0        20.0       11.0        10.0   \n",
       "\n",
       "                                               ATTRIBUTES CATALOG_PRODUCT_ID  \\\n",
       "166112  [{'id': 'BRAND', 'name': 'Marca', 'value_id': ...         H53U1H7Q5G   \n",
       "232926  [{'id': 'BRAND', 'name': 'Marca', 'value_id': ...         H53U1H7Q5G   \n",
       "442957                                                NaN         H53U1H7Q5G   \n",
       "\n",
       "       CONDITION                                DOMAIN_ID   PRICE   SELLER_ID  \\\n",
       "166112       new                      MLB-PRESSURE_GAUGES  170.45  OI54L9XV6H   \n",
       "232926       new  MLB-TV_REPLACEMENT_BACKLIGHT_LED_STRIPS   90.00  CZ1QS5Z3UX   \n",
       "442957       NaN                                      NaN     NaN         NaN   \n",
       "\n",
       "        STATUS                                              TITLE  \n",
       "166112  active  Hallmeter Cronomac 52mm Street Preto - Ar / Co...  \n",
       "232926  paused  Led Lg 3535 6v 2w 32lb5400 39lb5400 42lb5600 5...  \n",
       "442957     404                                                NaN  "
      ]
     },
     "execution_count": 50,
     "metadata": {},
     "output_type": "execute_result"
    }
   ],
   "source": [
    "df = df.dropna(subset=['SHP_WEIGHT'])\n",
    "df = df.dropna(subset=['SHP_LENGTH'])\n",
    "df = df.dropna(subset=['SHP_WIDTH'])\n",
    "df = df.dropna(subset=['SHP_HEIGHT'])\n",
    "df.sample(3)\n"
   ]
  },
  {
   "cell_type": "markdown",
   "metadata": {},
   "source": [
    "El objetivo del análisis es predecir el peso y tamaño de los artículos. A su vez el tamaño se puede descomponer en largo, altura y ancho.  Las cuatro variables a predecir son numéricas continuas .\n",
    "Probablemente la variable explicativa más importante sea DOMAIN_ID y ATTRIBUTES, dado que si se conoce el peso y tamaño de un artículo, los próximos envíos deberían tener las mismas características. En el caso de atributes, hay que preprocesar los datos para poder extraer algo de información.\n",
    "\n",
    "Luego se dispone de otras variables complementarias, cuya incorporación podría incrementar el poder predictivo del modelo: CONDITION, STATUS, PRICE, SELLER_ID.\n",
    "\n",
    "En primer lugar es conveniente relizar un análisis descriptivo, principalmente de las variables que se desea predecir."
   ]
  },
  {
   "cell_type": "markdown",
   "metadata": {},
   "source": [
    "## Analisis estadístico descriptivo de las variables peso, largo, altura y ancho"
   ]
  },
  {
   "cell_type": "code",
   "execution_count": 51,
   "metadata": {},
   "outputs": [
    {
     "data": {
      "text/html": [
       "<div>\n",
       "<style scoped>\n",
       "    .dataframe tbody tr th:only-of-type {\n",
       "        vertical-align: middle;\n",
       "    }\n",
       "\n",
       "    .dataframe tbody tr th {\n",
       "        vertical-align: top;\n",
       "    }\n",
       "\n",
       "    .dataframe thead th {\n",
       "        text-align: right;\n",
       "    }\n",
       "</style>\n",
       "<table border=\"1\" class=\"dataframe\">\n",
       "  <thead>\n",
       "    <tr style=\"text-align: right;\">\n",
       "      <th></th>\n",
       "      <th>SHP_WEIGHT</th>\n",
       "      <th>SHP_LENGTH</th>\n",
       "      <th>SHP_WIDTH</th>\n",
       "      <th>SHP_HEIGHT</th>\n",
       "    </tr>\n",
       "  </thead>\n",
       "  <tbody>\n",
       "    <tr>\n",
       "      <td>count</td>\n",
       "      <td>347751.000000</td>\n",
       "      <td>347751.000000</td>\n",
       "      <td>347751.000000</td>\n",
       "      <td>347751.000000</td>\n",
       "    </tr>\n",
       "    <tr>\n",
       "      <td>mean</td>\n",
       "      <td>1854.789579</td>\n",
       "      <td>31.451148</td>\n",
       "      <td>21.290276</td>\n",
       "      <td>11.578580</td>\n",
       "    </tr>\n",
       "    <tr>\n",
       "      <td>std</td>\n",
       "      <td>3257.884009</td>\n",
       "      <td>18.339895</td>\n",
       "      <td>11.217308</td>\n",
       "      <td>8.310821</td>\n",
       "    </tr>\n",
       "    <tr>\n",
       "      <td>min</td>\n",
       "      <td>1.000000</td>\n",
       "      <td>0.000000</td>\n",
       "      <td>0.000000</td>\n",
       "      <td>0.000000</td>\n",
       "    </tr>\n",
       "    <tr>\n",
       "      <td>25%</td>\n",
       "      <td>260.000000</td>\n",
       "      <td>20.000000</td>\n",
       "      <td>13.000000</td>\n",
       "      <td>5.000000</td>\n",
       "    </tr>\n",
       "    <tr>\n",
       "      <td>50%</td>\n",
       "      <td>675.000000</td>\n",
       "      <td>25.000000</td>\n",
       "      <td>20.000000</td>\n",
       "      <td>10.000000</td>\n",
       "    </tr>\n",
       "    <tr>\n",
       "      <td>75%</td>\n",
       "      <td>1900.000000</td>\n",
       "      <td>36.000000</td>\n",
       "      <td>25.000000</td>\n",
       "      <td>16.000000</td>\n",
       "    </tr>\n",
       "    <tr>\n",
       "      <td>max</td>\n",
       "      <td>50000.000000</td>\n",
       "      <td>288.200000</td>\n",
       "      <td>165.000000</td>\n",
       "      <td>105.000000</td>\n",
       "    </tr>\n",
       "  </tbody>\n",
       "</table>\n",
       "</div>"
      ],
      "text/plain": [
       "          SHP_WEIGHT     SHP_LENGTH      SHP_WIDTH     SHP_HEIGHT\n",
       "count  347751.000000  347751.000000  347751.000000  347751.000000\n",
       "mean     1854.789579      31.451148      21.290276      11.578580\n",
       "std      3257.884009      18.339895      11.217308       8.310821\n",
       "min         1.000000       0.000000       0.000000       0.000000\n",
       "25%       260.000000      20.000000      13.000000       5.000000\n",
       "50%       675.000000      25.000000      20.000000      10.000000\n",
       "75%      1900.000000      36.000000      25.000000      16.000000\n",
       "max     50000.000000     288.200000     165.000000     105.000000"
      ]
     },
     "execution_count": 51,
     "metadata": {},
     "output_type": "execute_result"
    }
   ],
   "source": [
    "df[['SHP_WEIGHT', 'SHP_LENGTH', 'SHP_WIDTH', \"SHP_HEIGHT\"]].describe()"
   ]
  },
  {
   "cell_type": "code",
   "execution_count": 52,
   "metadata": {},
   "outputs": [],
   "source": [
    "#plt.figure(figsize=(17,5))\n",
    "#seaborn.jointplot(data=df,\n",
    " #                 x='SHP_WEIGHT', y='STATUS', kind='hex')\n",
    "#seaborn.despine()"
   ]
  },
  {
   "cell_type": "code",
   "execution_count": 53,
   "metadata": {},
   "outputs": [
    {
     "data": {
      "text/plain": [
       "<matplotlib.axes._subplots.AxesSubplot at 0x2425c419d68>"
      ]
     },
     "execution_count": 53,
     "metadata": {},
     "output_type": "execute_result"
    },
    {
     "data": {
      "image/png": "[encoded data removed]",
      "text/plain": [
       "<Figure size 432x144 with 1 Axes>"
      ]
     },
     "metadata": {
      "needs_background": "light"
     },
     "output_type": "display_data"
    },
    {
     "data": {
      "image/png": "[encoded data removed]",
      "text/plain": [
       "<Figure size 432x144 with 1 Axes>"
      ]
     },
     "metadata": {
      "needs_background": "light"
     },
     "output_type": "display_data"
    },
    {
     "data": {
      "image/png": "[encoded data removed]",
      "text/plain": [
       "<Figure size 432x144 with 1 Axes>"
      ]
     },
     "metadata": {
      "needs_background": "light"
     },
     "output_type": "display_data"
    },
    {
     "data": {
      "image/png": "[encoded data removed]",
      "text/plain": [
       "<Figure size 432x144 with 1 Axes>"
      ]
     },
     "metadata": {
      "needs_background": "light"
     },
     "output_type": "display_data"
    },
    {
     "data": {
      "image/png": "[encoded data removed]",
      "text/plain": [
       "<Figure size 1008x144 with 1 Axes>"
      ]
     },
     "metadata": {
      "needs_background": "light"
     },
     "output_type": "display_data"
    }
   ],
   "source": [
    "plt.figure(figsize=(6,2))\n",
    "seaborn.boxplot(x=\"SHP_WEIGHT\", data=df, palette=\"coolwarm\")\n",
    "plt.figure(figsize=(6,2))\n",
    "seaborn.boxplot(x=\"SHP_LENGTH\", data=df, palette=\"coolwarm\")\n",
    "plt.figure(figsize=(6,2))\n",
    "seaborn.boxplot(x=\"SHP_WIDTH\", data=df, palette=\"coolwarm\")\n",
    "plt.figure(figsize=(6,2))\n",
    "seaborn.boxplot(x=\"SHP_HEIGHT\", data=df, palette=\"coolwarm\")\n",
    "plt.figure(figsize=(14,2))\n",
    "seaborn.boxplot(x=\"PRICE\", data=df, palette=\"coolwarm\")"
   ]
  },
  {
   "cell_type": "code",
   "execution_count": 54,
   "metadata": {},
   "outputs": [
    {
     "name": "stdout",
     "output_type": "stream",
     "text": [
      "Kurtosis de SHP_WEIGHT: 20.399253471252823\n",
      "Swewness de SHP_WEIGHT: 3.9153529466253163\n"
     ]
    }
   ],
   "source": [
    "ku = sc.stats.kurtosis(df[\"SHP_WEIGHT\"])\n",
    "print('Kurtosis de SHP_WEIGHT: {}'.format(ku))\n",
    "sw = sc.stats.skew(df[\"SHP_WEIGHT\"])\n",
    "print('Swewness de SHP_WEIGHT: {}'.format(sw))"
   ]
  },
  {
   "cell_type": "code",
   "execution_count": 55,
   "metadata": {},
   "outputs": [
    {
     "name": "stdout",
     "output_type": "stream",
     "text": [
      "Kurtosis de SHP_LENGTH: 7.986387205669544\n",
      "Swewness de SHP_LENGTH: 2.210783096690722\n"
     ]
    }
   ],
   "source": [
    "ku = sc.stats.kurtosis(df[\"SHP_LENGTH\"])\n",
    "print('Kurtosis de SHP_LENGTH: {}'.format(ku))\n",
    "sw = sc.stats.skew(df[\"SHP_LENGTH\"])\n",
    "print('Swewness de SHP_LENGTH: {}'.format(sw))"
   ]
  },
  {
   "cell_type": "code",
   "execution_count": 56,
   "metadata": {},
   "outputs": [
    {
     "name": "stdout",
     "output_type": "stream",
     "text": [
      "Kurtosis de SHP_WIDTH: 4.010110453831872\n",
      "Swewness de SHP_WIDTH: 1.4488834173591043\n"
     ]
    }
   ],
   "source": [
    "ku = sc.stats.kurtosis(df[\"SHP_WIDTH\"])\n",
    "print('Kurtosis de SHP_WIDTH: {}'.format(ku))\n",
    "sw = sc.stats.skew(df[\"SHP_WIDTH\"])\n",
    "print('Swewness de SHP_WIDTH: {}'.format(sw))"
   ]
  },
  {
   "cell_type": "code",
   "execution_count": 57,
   "metadata": {},
   "outputs": [
    {
     "name": "stdout",
     "output_type": "stream",
     "text": [
      "Kurtosis de SHP_HEIGHT: 2.9425875742295364\n",
      "Swewness de SHP_HEIGHT: 1.4231292439255891\n"
     ]
    }
   ],
   "source": [
    "ku = sc.stats.kurtosis(df[\"SHP_HEIGHT\"])\n",
    "print('Kurtosis de SHP_HEIGHT: {}'.format(ku))\n",
    "sw = sc.stats.skew(df[\"SHP_HEIGHT\"])\n",
    "print('Swewness de SHP_HEIGHT: {}'.format(sw))"
   ]
  },
  {
   "cell_type": "code",
   "execution_count": 58,
   "metadata": {},
   "outputs": [],
   "source": [
    "# ku = sc.stats.kurtosis(df[\"PRICE\"])\n",
    "# print('Kurtosis de PRICE: {}'.format(ku))\n",
    "# sw = sc.stats.skew(df[\"PRICE\"])\n",
    "# print('Swewness de PRICE: {}'.format(sw))"
   ]
  },
  {
   "cell_type": "code",
   "execution_count": 59,
   "metadata": {},
   "outputs": [
    {
     "data": {
      "image/png": "[encoded data removed]",
      "text/plain": [
       "<Figure size 576x360 with 1 Axes>"
      ]
     },
     "metadata": {
      "needs_background": "light"
     },
     "output_type": "display_data"
    }
   ],
   "source": [
    "plt.figure(figsize=(8, 5))\n",
    "seaborn.distplot(df['SHP_WEIGHT'], label='SHP_WEIGHT')\n",
    "seaborn.despine()"
   ]
  },
  {
   "cell_type": "code",
   "execution_count": 60,
   "metadata": {},
   "outputs": [
    {
     "data": {
      "image/png": "[encoded data removed]",
      "text/plain": [
       "<Figure size 576x360 with 1 Axes>"
      ]
     },
     "metadata": {
      "needs_background": "light"
     },
     "output_type": "display_data"
    }
   ],
   "source": [
    "plt.figure(figsize=(8,5))\n",
    "seaborn.distplot(df['SHP_WIDTH'], label='SHP_WIDTH')\n",
    "seaborn.despine()"
   ]
  },
  {
   "cell_type": "code",
   "execution_count": 61,
   "metadata": {},
   "outputs": [
    {
     "data": {
      "image/png": "[encoded data removed]",
      "text/plain": [
       "<Figure size 576x360 with 1 Axes>"
      ]
     },
     "metadata": {
      "needs_background": "light"
     },
     "output_type": "display_data"
    }
   ],
   "source": [
    "plt.figure(figsize=(8,5))\n",
    "seaborn.distplot(df['SHP_LENGTH'], label='SHP_LENGTH')\n",
    "seaborn.despine()"
   ]
  },
  {
   "cell_type": "code",
   "execution_count": 62,
   "metadata": {},
   "outputs": [
    {
     "data": {
      "image/png": "[encoded data removed]",
      "text/plain": [
       "<Figure size 576x360 with 1 Axes>"
      ]
     },
     "metadata": {
      "needs_background": "light"
     },
     "output_type": "display_data"
    }
   ],
   "source": [
    "plt.figure(figsize=(8,5))\n",
    "seaborn.distplot(df['SHP_HEIGHT'], label='SHP_HEIGHT')\n",
    "seaborn.despine()"
   ]
  },
  {
   "cell_type": "code",
   "execution_count": 63,
   "metadata": {},
   "outputs": [],
   "source": [
    "# plt.figure(figsize=(8,5))\n",
    "# seaborn.distplot(df['PRICE'], label='PRICE')\n",
    "# seaborn.despine()"
   ]
  },
  {
   "cell_type": "code",
   "execution_count": 64,
   "metadata": {},
   "outputs": [
    {
     "data": {
      "text/plain": [
       "new              260579\n",
       "used               1023\n",
       "not_specified       356\n",
       "Name: CONDITION, dtype: int64"
      ]
     },
     "execution_count": 64,
     "metadata": {},
     "output_type": "execute_result"
    }
   ],
   "source": [
    "pd.value_counts(df['CONDITION'])"
   ]
  },
  {
   "cell_type": "code",
   "execution_count": 65,
   "metadata": {},
   "outputs": [
    {
     "data": {
      "text/plain": [
       "active          161502\n",
       "paused           82196\n",
       "404              51426\n",
       "under_review     31159\n",
       "closed           18442\n",
       "inactive          3026\n",
       "Name: STATUS, dtype: int64"
      ]
     },
     "execution_count": 65,
     "metadata": {},
     "output_type": "execute_result"
    }
   ],
   "source": [
    "pd.value_counts(df['STATUS'])"
   ]
  },
  {
   "cell_type": "code",
   "execution_count": 66,
   "metadata": {
    "scrolled": true
   },
   "outputs": [
    {
     "data": {
      "text/plain": [
       "MLB-VEHICLE_ACCESSORIES        6856\n",
       "MLB-SUPPLEMENTS                5780\n",
       "MLB-VEHICLE_PARTS              4454\n",
       "MLB-HAIR_TREATMENTS            3273\n",
       "MLB-BACKPACKS                  3119\n",
       "                               ... \n",
       "MLB-DOG_COLLARS                   1\n",
       "MLB-LABEL_MAKER_INK_ROLLERS       1\n",
       "MLB-PANETTONES                    1\n",
       "MLB-MODEL_AIRCRAFT_PLANS          1\n",
       "MLB-AGOGOS                        1\n",
       "Name: DOMAIN_ID, Length: 2763, dtype: int64"
      ]
     },
     "execution_count": 66,
     "metadata": {},
     "output_type": "execute_result"
    }
   ],
   "source": [
    "pd.value_counts(df['DOMAIN_ID'])"
   ]
  },
  {
   "cell_type": "code",
   "execution_count": 67,
   "metadata": {},
   "outputs": [
    {
     "data": {
      "image/png": "[encoded data removed]",
      "text/plain": [
       "<Figure size 432x288 with 1 Axes>"
      ]
     },
     "metadata": {
      "needs_background": "light"
     },
     "output_type": "display_data"
    }
   ],
   "source": [
    "plot = df['CONDITION'].value_counts().plot(kind='bar',\n",
    "                                            title='ENVIOS POR CONDICION')"
   ]
  },
  {
   "cell_type": "markdown",
   "metadata": {},
   "source": [
    "En los envíos por condición la categoria modal es nuevo como refleja el gráfico, superando ampliamente las demás categorías"
   ]
  },
  {
   "cell_type": "code",
   "execution_count": 68,
   "metadata": {},
   "outputs": [
    {
     "data": {
      "image/png": "[encoded data removed]",
      "text/plain": [
       "<Figure size 432x288 with 1 Axes>"
      ]
     },
     "metadata": {
      "needs_background": "light"
     },
     "output_type": "display_data"
    }
   ],
   "source": [
    "plot = df['STATUS'].value_counts().plot(kind='bar',\n",
    "                                            title='ENVIOS POR ESTADO')"
   ]
  },
  {
   "cell_type": "markdown",
   "metadata": {},
   "source": [
    "En los envíos por estado la categoria mas frecuente es activo"
   ]
  },
  {
   "cell_type": "markdown",
   "metadata": {},
   "source": [
    "## ¿Qué criterios les parece mejor para limpiar el dataset de datos faltantes?"
   ]
  },
  {
   "cell_type": "markdown",
   "metadata": {},
   "source": [
    "Los datos o el conjunto de datos del que disponemos a menudo no están completos para ser analizados apropiadamente.\n",
    "La limpieza de los datos consiste en reemplazarlos o eliminarlos de una forma tal que, el resultado final se vea afectado lo menos posible.\n",
    "Criterios que se podrían considerar para la limpieza:\n",
    "- Eliminar registros con datos faltantes, eliminado filas con 1 dato faltante, campos nulos que superen una cantidad, o ciertos campos nulos no permitidos\n",
    "- Reemplazar los valores faltantes con un dato que podría ser, la media, la mediana o la moda de acuerdo al tipo de distribución que tienen los datos\n",
    "- Comparar los resultados para analizar el impacto considerando ambas alternativas\n",
    "\n",
    "Para nuestro caso el criterio elegido es eliminar los registros en los que falte alguna de las medidas de peso, precio y volumen.\n",
    "Vamos a partir de datos completos y los registros que queden fuera del análisis pueden usarse a futuro para determinar Qué valor sería\n",
    "acorde para completarlos."
   ]
  },
  {
   "cell_type": "markdown",
   "metadata": {},
   "source": [
    "## Conclusiones sobre las distribuciones de las variables a predecir\n"
   ]
  },
  {
   "cell_type": "markdown",
   "metadata": {},
   "source": [
    "Se aprecia que las cuatro variables a predecir tienen distribuciones con asimetría izquierda bastante marcada, especialmente el peso de los productos. Adempas las cuatro distribuciones son leptocúrticas o sea mas puntiagudas de que la distribución normal. También puede decirse que las variables no tienen distribuciones tan heterogéneas como se podría esperar, pero sí presentan múltiples outliers."
   ]
  },
  {
   "cell_type": "markdown",
   "metadata": {},
   "source": [
    "## Categorias/Dominios con mayor homegeneidad y heterogeneidad"
   ]
  },
  {
   "cell_type": "code",
   "execution_count": 69,
   "metadata": {},
   "outputs": [
    {
     "name": "stderr",
     "output_type": "stream",
     "text": [
      "C:\\Anaconda3\\lib\\site-packages\\scipy\\stats\\stats.py:1040: RuntimeWarning: invalid value encountered in double_scalars\n",
      "  return a.std(axis) / a.mean(axis)\n"
     ]
    },
    {
     "name": "stdout",
     "output_type": "stream",
     "text": [
      "TOP 20 CATEGORIAS CON SHP_WEIGHT HETEROGENEO\n",
      "['MLB-SKIN_CARE_SUPPLIES' 'MLB-CARD_PAYMENT_TERMINALS'\n",
      " 'MLB-MOTORCYCLE_OIL_FILTERS' 'MLB-LAPTOP_KEYBOARDS' nan 'MLB-CUSHIONS'\n",
      " 'MLB-SHORTS' 'MLB-AUTOMOTIVE_TIRES' 'MLB-AUTOMOTIVE_DEFLECTORS'\n",
      " 'MLB-HEALTH_CARE_SUPPLIES' 'MLB-CLEANING_MOPS']\n",
      "TOP 20 CATEGORIAS CON SHP_LENGTH HETEROGENEO\n",
      "['MLB-SKIN_CARE_SUPPLIES' 'MLB-SUNGLASSES' 'MLB-CELLPHONES' nan\n",
      " 'MLB-COLLECTIBLE_PRODUCTS' 'MLB-SNEAKERS' 'MLB-MOVIES'\n",
      " 'MLB-MOTORCYCLE_OIL_FILTERS' 'MLB-LAPTOP_KEYBOARDS' 'MLB-CUSHIONS'\n",
      " 'MLB-CARD_PAYMENT_TERMINALS']\n",
      "TOP 20 CATEGORIAS CON SHP_WIDTH HETEROGENEO\n",
      "['MLB-SKIN_CARE_SUPPLIES' 'MLB-PAINTINGS' 'MLB-AUTOMOTIVE_EMBLEMS'\n",
      " 'MLB-AUTOMOTIVE_WHEEL_COVERS' nan 'MLB-MOTORCYCLE_LEVERS'\n",
      " 'MLB-KITCHEN_SUPPLIES' 'MLB-LIFE_JACKETS' 'MLB-BASS_GUITARS'\n",
      " 'MLB-TENNIS_BALLS' 'MLB-BOOTS_AND_BOOTIES' 'MLB-SUPPLEMENTS'\n",
      " 'MLB-WOMEN_SWIMWEAR']\n",
      "TOP 20 CATEGORIAS CON SHP_HEIGHT HETEROGENEO\n",
      "['MLB-SKIN_CARE_SUPPLIES' 'MLB-PAINTINGS' 'MLB-AUTOMOTIVE_EMBLEMS'\n",
      " 'MLB-AUTOMOTIVE_WHEEL_COVERS' nan 'MLB-MOTORCYCLE_LEVERS'\n",
      " 'MLB-KITCHEN_SUPPLIES' 'MLB-LIFE_JACKETS' 'MLB-BASS_GUITARS'\n",
      " 'MLB-TENNIS_BALLS' 'MLB-BOOTS_AND_BOOTIES' 'MLB-SUPPLEMENTS'\n",
      " 'MLB-WOMEN_SWIMWEAR']\n"
     ]
    }
   ],
   "source": [
    "df = df.dropna(subset=['SHP_WEIGHT', 'SHP_LENGTH', 'SHP_WIDTH', 'SHP_HEIGHT'])\n",
    "\n",
    "# df = df.head(10000) #esto no iria, solo tomo 10000 para q no demore tanto\n",
    "\n",
    "for i, row in df.iterrows():\n",
    "\n",
    "    #setear en cada registro del data set el coeficiente de variacion de ese peso o medidas en nuevas columnas \n",
    "    #CF_SHP_WEIGHT, CF_x, CF_X, CF_X\n",
    "    \n",
    "    df.loc[i,'CF_SHP_WEIGHT'] = sc.stats.variation(df.loc[i,'SHP_WEIGHT'])\n",
    "    df.loc[i,'CF_SHP_LENGTH'] = sc.stats.variation(df.loc[i,'SHP_LENGTH'])\n",
    "    df.loc[i,'CF_SHP_WIDTH'] = sc.stats.variation(df.loc[i,'SHP_WIDTH'])\n",
    "    df.loc[i,'CF_SHP_HEIGHT'] = sc.stats.variation(df.loc[i,'SHP_HEIGHT'])\n",
    "    \n",
    "#Agrupando ordenando descendente los mejores coeficientes por cada variable de medicion\n",
    "#Los que tengan valores mas alto son los mas heterogeneos\n",
    "df_het_cf_shp_weight = df[['DOMAIN_ID', 'CF_SHP_WEIGHT']].sort_values('CF_SHP_WEIGHT', ascending=False)\n",
    "df_het_cf_shp_length = df[['DOMAIN_ID', 'CF_SHP_LENGTH']].sort_values('CF_SHP_LENGTH', ascending=False)\n",
    "df_het_cf_shp_width = df[['DOMAIN_ID', 'CF_SHP_WIDTH']].sort_values('CF_SHP_WIDTH', ascending=False)\n",
    "df_het_cf_shp_height = df[['DOMAIN_ID', 'CF_SHP_HEIGHT']].sort_values('CF_SHP_HEIGHT', ascending=False)\n",
    "\n",
    "#se armaron listas ordenadas con cada variable y se va a extraer las categorias unicas\n",
    "print('TOP 20 CATEGORIAS CON SHP_WEIGHT HETEROGENEO')\n",
    "print(df_het_cf_shp_weight['DOMAIN_ID'][:20].unique())\n",
    "\n",
    "print('TOP 20 CATEGORIAS CON SHP_LENGTH HETEROGENEO')\n",
    "print(df_het_cf_shp_length['DOMAIN_ID'][:20].unique())\n",
    "\n",
    "print('TOP 20 CATEGORIAS CON SHP_WIDTH HETEROGENEO')\n",
    "print(df_het_cf_shp_width['DOMAIN_ID'][:20].unique())\n",
    "\n",
    "print('TOP 20 CATEGORIAS CON SHP_HEIGHT HETEROGENEO')\n",
    "print(df_het_cf_shp_height['DOMAIN_ID'][:20].unique())\n",
    "\n",
    "\n",
    "#Los que tengan valores mas alto son los mas heterogeneos"
   ]
  },
  {
   "cell_type": "markdown",
   "metadata": {},
   "source": [
    "#### Detección de outliers "
   ]
  },
  {
   "cell_type": "markdown",
   "metadata": {},
   "source": [
    "En los diversos boxplots graficados previemente, se puedo determinar que existen outliers dado que hay puntos que exceden a $Q_3 + 1.5 \\times RI$. Siguiendo dicho criterio, se encuentran los siguientes outliers en las variables numéricas del dataset."
   ]
  },
  {
   "cell_type": "markdown",
   "metadata": {},
   "source": [
    "#### Outliers de SHP_WEIGHT"
   ]
  },
  {
   "cell_type": "code",
   "execution_count": 70,
   "metadata": {},
   "outputs": [
    {
     "data": {
      "text/plain": [
       "50         5800.0\n",
       "60         6900.0\n",
       "63         7900.0\n",
       "130        4684.0\n",
       "132       14000.0\n",
       "           ...   \n",
       "499904    12150.0\n",
       "499932     8670.0\n",
       "499933     7190.0\n",
       "499936    24000.0\n",
       "499945     4500.0\n",
       "Name: SHP_WEIGHT, Length: 38163, dtype: float64"
      ]
     },
     "execution_count": 70,
     "metadata": {},
     "output_type": "execute_result"
    }
   ],
   "source": [
    "#df[\"SHP_WEIGHT\"].describe()\n",
    "#q75, q25 = np.percentile(df[\"SHP_WEIGHT\"], [75,25])\n",
    "#iqr = q75 - q25\n",
    "#q1=np.percentile(df[\"SHP_WEIGHT\"], 25)\n",
    "#q3=np.percentile(df[\"SHP_WEIGHT\"], 75)\n",
    "\n",
    "q1=df[\"SHP_WEIGHT\"].quantile(0.25)\n",
    "q3=df[\"SHP_WEIGHT\"].quantile(0.75)\n",
    "\n",
    "LSO = q3 + 1.5 * (q3-q1)\n",
    "df[\"SHP_WEIGHT\"][df[\"SHP_WEIGHT\"]>LSO]"
   ]
  },
  {
   "cell_type": "markdown",
   "metadata": {},
   "source": [
    "#### Outliers de SHP_LENGTH"
   ]
  },
  {
   "cell_type": "code",
   "execution_count": 71,
   "metadata": {},
   "outputs": [
    {
     "data": {
      "text/plain": [
       "63         97.0\n",
       "238       102.0\n",
       "264        94.0\n",
       "267        63.0\n",
       "334        68.0\n",
       "          ...  \n",
       "499765     88.0\n",
       "499832     67.0\n",
       "499844     83.0\n",
       "499940     71.0\n",
       "499945     90.0\n",
       "Name: SHP_LENGTH, Length: 22972, dtype: float64"
      ]
     },
     "execution_count": 71,
     "metadata": {},
     "output_type": "execute_result"
    }
   ],
   "source": [
    "q1=df[\"SHP_LENGTH\"].quantile(0.25)\n",
    "q3=df[\"SHP_LENGTH\"].quantile(0.75)\n",
    "\n",
    "LSO = q3 + 1.5 * (q3-q1)\n",
    "df[\"SHP_LENGTH\"][df[\"SHP_LENGTH\"]>LSO]"
   ]
  },
  {
   "cell_type": "markdown",
   "metadata": {},
   "source": [
    "#### Outliers de SHP_WIDTH"
   ]
  },
  {
   "cell_type": "code",
   "execution_count": 72,
   "metadata": {},
   "outputs": [
    {
     "data": {
      "text/plain": [
       "44        45.0\n",
       "63        68.0\n",
       "171       55.0\n",
       "264       60.0\n",
       "267       63.0\n",
       "          ... \n",
       "499715    51.0\n",
       "499779    45.0\n",
       "499809    48.0\n",
       "499850    56.0\n",
       "499945    50.0\n",
       "Name: SHP_WIDTH, Length: 16512, dtype: float64"
      ]
     },
     "execution_count": 72,
     "metadata": {},
     "output_type": "execute_result"
    }
   ],
   "source": [
    "q1=df[\"SHP_WIDTH\"].quantile(0.25)\n",
    "q3=df[\"SHP_WIDTH\"].quantile(0.75)\n",
    "\n",
    "LSO = q3 + 1.5 * (q3-q1)\n",
    "df[\"SHP_WIDTH\"][df[\"SHP_WIDTH\"]>LSO]"
   ]
  },
  {
   "cell_type": "markdown",
   "metadata": {},
   "source": [
    "#### Outliers de SHP_HEIGHT"
   ]
  },
  {
   "cell_type": "code",
   "execution_count": 73,
   "metadata": {},
   "outputs": [
    {
     "data": {
      "text/plain": [
       "49        33.0\n",
       "50        37.0\n",
       "60        40.0\n",
       "171       44.0\n",
       "475       33.0\n",
       "          ... \n",
       "499678    35.0\n",
       "499681    47.0\n",
       "499779    33.0\n",
       "499807    38.0\n",
       "499809    36.0\n",
       "Name: SHP_HEIGHT, Length: 8769, dtype: float64"
      ]
     },
     "execution_count": 73,
     "metadata": {},
     "output_type": "execute_result"
    }
   ],
   "source": [
    "q1=df[\"SHP_HEIGHT\"].quantile(0.25)\n",
    "q3=df[\"SHP_HEIGHT\"].quantile(0.75)\n",
    "\n",
    "LSO = q3 + 1.5 * (q3-q1)\n",
    "df[\"SHP_HEIGHT\"][df[\"SHP_HEIGHT\"]>LSO]"
   ]
  },
  {
   "cell_type": "code",
   "execution_count": 74,
   "metadata": {},
   "outputs": [],
   "source": [
    "#### Outliers de PRICE"
   ]
  },
  {
   "cell_type": "code",
   "execution_count": 75,
   "metadata": {},
   "outputs": [],
   "source": [
    "# q1=df[\"PRICE\"].quantile(0.25)\n",
    "# q3=df[\"PRICE\"].quantile(0.75)\n",
    "\n",
    "# LSO = q3 + 1.5 * (q3-q1)\n",
    "# df[\"PRICE\"][df[\"PRICE\"]>LSO]"
   ]
  },
  {
   "cell_type": "code",
   "execution_count": null,
   "metadata": {},
   "outputs": [],
   "source": []
  },
  {
   "cell_type": "code",
   "execution_count": null,
   "metadata": {},
   "outputs": [],
   "source": []
  },
  {
   "cell_type": "code",
   "execution_count": null,
   "metadata": {},
   "outputs": [],
   "source": []
  },
  {
   "cell_type": "code",
   "execution_count": null,
   "metadata": {},
   "outputs": [],
   "source": []
  },
  {
   "cell_type": "code",
   "execution_count": null,
   "metadata": {},
   "outputs": [],
   "source": []
  },
  {
   "cell_type": "code",
   "execution_count": null,
   "metadata": {},
   "outputs": [],
   "source": []
  },
  {
   "cell_type": "code",
   "execution_count": null,
   "metadata": {},
   "outputs": [],
   "source": []
  },
  {
   "cell_type": "code",
   "execution_count": null,
   "metadata": {},
   "outputs": [],
   "source": []
  },
  {
   "cell_type": "code",
   "execution_count": null,
   "metadata": {},
   "outputs": [],
   "source": []
  },
  {
   "cell_type": "code",
   "execution_count": null,
   "metadata": {},
   "outputs": [],
   "source": []
  },
  {
   "cell_type": "code",
   "execution_count": null,
   "metadata": {},
   "outputs": [],
   "source": []
  },
  {
   "cell_type": "code",
   "execution_count": null,
   "metadata": {},
   "outputs": [],
   "source": []
  },
  {
   "cell_type": "code",
   "execution_count": null,
   "metadata": {},
   "outputs": [],
   "source": []
  },
  {
   "cell_type": "code",
   "execution_count": null,
   "metadata": {},
   "outputs": [],
   "source": []
  },
  {
   "cell_type": "code",
   "execution_count": null,
   "metadata": {},
   "outputs": [],
   "source": []
  },
  {
   "cell_type": "code",
   "execution_count": null,
   "metadata": {},
   "outputs": [],
   "source": []
  },
  {
   "cell_type": "code",
   "execution_count": null,
   "metadata": {},
   "outputs": [],
   "source": []
  },
  {
   "cell_type": "code",
   "execution_count": null,
   "metadata": {},
   "outputs": [],
   "source": []
  },
  {
   "cell_type": "code",
   "execution_count": null,
   "metadata": {},
   "outputs": [],
   "source": []
  },
  {
   "cell_type": "code",
   "execution_count": null,
   "metadata": {},
   "outputs": [],
   "source": []
  }
 ],
 "metadata": {
  "kernelspec": {
   "display_name": "Python 3",
   "language": "python",
   "name": "python3"
  },
  "language_info": {
   "codemirror_mode": {
    "name": "ipython",
    "version": 3
   },
   "file_extension": ".py",
   "mimetype": "text/x-python",
   "name": "python",
   "nbconvert_exporter": "python",
   "pygments_lexer": "ipython3",
   "version": "3.7.3"
  }
 },
 "nbformat": 4,
 "nbformat_minor": 2
}
