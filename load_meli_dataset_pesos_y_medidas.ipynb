{
 "cells": [
  {
   "cell_type": "markdown",
   "metadata": {},
   "source": [
    "# Estimación de peso y dimensiones de los envíos de Mercado Libre\n",
    "\n",
    "Este notebook es una versión mínima y necesaria para poder levantar el dataset [meli_dataset_20190426.csv](https://drive.google.com/open?id=1tNUKD1lf1z8C7LPpCruiDl6SKBAHb79v) y comprender los features que éste contiene.\n",
    "\n",
    "# Sobre el dataset\n",
    "El dataset corresponde a un muestreo de envíos durante tres meses de 2018 en MLB (Mercado Libre Brasil), filtrados según métodos de envíos y por carriers (empresas de correos a cargo del envío propiamente dicho). A su vez, fue muestreado de forma no uniforme para romper de forma manual la distribución de los datos."
   ]
  },
  {
   "cell_type": "code",
   "execution_count": 1,
   "metadata": {},
   "outputs": [],
   "source": [
    "import pandas as pd\n",
    "import random\n",
    "import matplotlib.pyplot as plt\n",
    "import numpy\n",
    "import seaborn\n",
    "import scipy as sc"
   ]
  },
  {
   "cell_type": "code",
   "execution_count": 2,
   "metadata": {},
   "outputs": [],
   "source": [
    "random.seed(0)"
   ]
  },
  {
   "cell_type": "code",
   "execution_count": 3,
   "metadata": {},
   "outputs": [],
   "source": [
    "DATASET = 'meli_dataset_20190426.csv'"
   ]
  },
  {
   "cell_type": "code",
   "execution_count": 4,
   "metadata": {},
   "outputs": [],
   "source": [
    "df = pd.read_csv(DATASET, low_memory=False)"
   ]
  },
  {
   "cell_type": "code",
   "execution_count": 5,
   "metadata": {},
   "outputs": [
    {
     "data": {
      "text/plain": [
       "Index(['ITEM_ID', 'SHP_WEIGHT', 'SHP_LENGTH', 'SHP_WIDTH', 'SHP_HEIGHT',\n",
       "       'ATTRIBUTES', 'CATALOG_PRODUCT_ID', 'CONDITION', 'DOMAIN_ID', 'PRICE',\n",
       "       'SELLER_ID', 'STATUS', 'TITLE'],\n",
       "      dtype='object')"
      ]
     },
     "execution_count": 5,
     "metadata": {},
     "output_type": "execute_result"
    }
   ],
   "source": [
    "df.columns"
   ]
  },
  {
   "cell_type": "markdown",
   "metadata": {},
   "source": [
    "#### ¿Qué significa cada columna?\n",
    "\n",
    "* ITEM_ID: id unívoco de cada item publicado. (Ofuscado)\n",
    "* SHP_WEIGHT: peso del paquete informado por el correo.\n",
    "* SHP_LENGTH: largo del paquete informado por el correo.\n",
    "* SHP_WIDTH: ancho del paquete informado por el correo.\n",
    "* SHP_HEIGHT: altura del paquete informado por el correo.\n",
    "* ATTRIBUTES: atributos como marca y modelo, entre otros, en formato json-lines\n",
    "* CATALOG_PRODUCT_ID: id del catálogo (ofuscado).\n",
    "* CONDITION: condición de venta (nuevo o usado).\n",
    "* DOMAIN_ID: id de la categoría a la que pertenece la publicación.\n",
    "* PRICE: precio en reales.\n",
    "* SELLER_ID: id del vendedor (ofuscado).\n",
    "* STATUS: estado de la publicación (activa, cerrada, pausada, etc.)\n",
    "* TITLE: título de la publicación."
   ]
  },
  {
   "cell_type": "code",
   "execution_count": 6,
   "metadata": {},
   "outputs": [
    {
     "data": {
      "text/html": [
       "<div>\n",
       "<style scoped>\n",
       "    .dataframe tbody tr th:only-of-type {\n",
       "        vertical-align: middle;\n",
       "    }\n",
       "\n",
       "    .dataframe tbody tr th {\n",
       "        vertical-align: top;\n",
       "    }\n",
       "\n",
       "    .dataframe thead th {\n",
       "        text-align: right;\n",
       "    }\n",
       "</style>\n",
       "<table border=\"1\" class=\"dataframe\">\n",
       "  <thead>\n",
       "    <tr style=\"text-align: right;\">\n",
       "      <th></th>\n",
       "      <th>ITEM_ID</th>\n",
       "      <th>SHP_WEIGHT</th>\n",
       "      <th>SHP_LENGTH</th>\n",
       "      <th>SHP_WIDTH</th>\n",
       "      <th>SHP_HEIGHT</th>\n",
       "      <th>ATTRIBUTES</th>\n",
       "      <th>CATALOG_PRODUCT_ID</th>\n",
       "      <th>CONDITION</th>\n",
       "      <th>DOMAIN_ID</th>\n",
       "      <th>PRICE</th>\n",
       "      <th>SELLER_ID</th>\n",
       "      <th>STATUS</th>\n",
       "      <th>TITLE</th>\n",
       "    </tr>\n",
       "  </thead>\n",
       "  <tbody>\n",
       "    <tr>\n",
       "      <th>290758</th>\n",
       "      <td>FJEB1NDSY1</td>\n",
       "      <td>1020.0</td>\n",
       "      <td>36.6</td>\n",
       "      <td>18.8</td>\n",
       "      <td>5.7</td>\n",
       "      <td>[{'id': 'BRAND', 'name': 'Marca', 'value_id': ...</td>\n",
       "      <td>H53U1H7Q5G</td>\n",
       "      <td>new</td>\n",
       "      <td>MLB-DRILL_BITS</td>\n",
       "      <td>40.00</td>\n",
       "      <td>XYDSNCU3UV</td>\n",
       "      <td>active</td>\n",
       "      <td>Jogo / Kit De Serra Copo P/ Madeira C/ 12 Peça...</td>\n",
       "    </tr>\n",
       "    <tr>\n",
       "      <th>172094</th>\n",
       "      <td>VOAL870OUF</td>\n",
       "      <td>NaN</td>\n",
       "      <td>NaN</td>\n",
       "      <td>NaN</td>\n",
       "      <td>NaN</td>\n",
       "      <td>[{'id': 'BRAND', 'name': 'Marca', 'value_id': ...</td>\n",
       "      <td>H53U1H7Q5G</td>\n",
       "      <td>new</td>\n",
       "      <td>MLB-MASSAGE_CREAMS</td>\n",
       "      <td>39.99</td>\n",
       "      <td>EYCB7LVQH9</td>\n",
       "      <td>active</td>\n",
       "      <td>Pomada Massageadora Fisiofort Bio Instinto Com...</td>\n",
       "    </tr>\n",
       "    <tr>\n",
       "      <th>473143</th>\n",
       "      <td>PR5ET72H3U</td>\n",
       "      <td>126.0</td>\n",
       "      <td>25.0</td>\n",
       "      <td>11.0</td>\n",
       "      <td>5.0</td>\n",
       "      <td>NaN</td>\n",
       "      <td>H53U1H7Q5G</td>\n",
       "      <td>NaN</td>\n",
       "      <td>NaN</td>\n",
       "      <td>NaN</td>\n",
       "      <td>I0F7OAIAT5</td>\n",
       "      <td>under_review</td>\n",
       "      <td>Cabo Hdmi De 2m 8pin 1080p Para Ipad Iphone 5/...</td>\n",
       "    </tr>\n",
       "    <tr>\n",
       "      <th>243255</th>\n",
       "      <td>XVA92L238B</td>\n",
       "      <td>970.0</td>\n",
       "      <td>30.0</td>\n",
       "      <td>20.0</td>\n",
       "      <td>15.0</td>\n",
       "      <td>[{'id': 'BRAND', 'name': 'Marca', 'value_id': ...</td>\n",
       "      <td>H53U1H7Q5G</td>\n",
       "      <td>new</td>\n",
       "      <td>MLB-BOOTS_AND_BOOTIES</td>\n",
       "      <td>139.00</td>\n",
       "      <td>MJ6DKGFP9C</td>\n",
       "      <td>active</td>\n",
       "      <td>Bota Feminina Bico Quadrado Comfort Couro De C...</td>\n",
       "    </tr>\n",
       "    <tr>\n",
       "      <th>485004</th>\n",
       "      <td>KB0IBL212L</td>\n",
       "      <td>1641.0</td>\n",
       "      <td>30.0</td>\n",
       "      <td>20.0</td>\n",
       "      <td>15.0</td>\n",
       "      <td>[{'id': 'BRAND', 'name': 'Marca', 'value_id': ...</td>\n",
       "      <td>H53U1H7Q5G</td>\n",
       "      <td>new</td>\n",
       "      <td>MLB-BOOTS_AND_BOOTIES</td>\n",
       "      <td>99.90</td>\n",
       "      <td>JKEK75XL26</td>\n",
       "      <td>active</td>\n",
       "      <td>Bota Adventure + Palmilha Gel  Cat Original! M...</td>\n",
       "    </tr>\n",
       "  </tbody>\n",
       "</table>\n",
       "</div>"
      ],
      "text/plain": [
       "           ITEM_ID  SHP_WEIGHT  SHP_LENGTH  SHP_WIDTH  SHP_HEIGHT  \\\n",
       "290758  FJEB1NDSY1      1020.0        36.6       18.8         5.7   \n",
       "172094  VOAL870OUF         NaN         NaN        NaN         NaN   \n",
       "473143  PR5ET72H3U       126.0        25.0       11.0         5.0   \n",
       "243255  XVA92L238B       970.0        30.0       20.0        15.0   \n",
       "485004  KB0IBL212L      1641.0        30.0       20.0        15.0   \n",
       "\n",
       "                                               ATTRIBUTES CATALOG_PRODUCT_ID  \\\n",
       "290758  [{'id': 'BRAND', 'name': 'Marca', 'value_id': ...         H53U1H7Q5G   \n",
       "172094  [{'id': 'BRAND', 'name': 'Marca', 'value_id': ...         H53U1H7Q5G   \n",
       "473143                                                NaN         H53U1H7Q5G   \n",
       "243255  [{'id': 'BRAND', 'name': 'Marca', 'value_id': ...         H53U1H7Q5G   \n",
       "485004  [{'id': 'BRAND', 'name': 'Marca', 'value_id': ...         H53U1H7Q5G   \n",
       "\n",
       "       CONDITION              DOMAIN_ID   PRICE   SELLER_ID        STATUS  \\\n",
       "290758       new         MLB-DRILL_BITS   40.00  XYDSNCU3UV        active   \n",
       "172094       new     MLB-MASSAGE_CREAMS   39.99  EYCB7LVQH9        active   \n",
       "473143       NaN                    NaN     NaN  I0F7OAIAT5  under_review   \n",
       "243255       new  MLB-BOOTS_AND_BOOTIES  139.00  MJ6DKGFP9C        active   \n",
       "485004       new  MLB-BOOTS_AND_BOOTIES   99.90  JKEK75XL26        active   \n",
       "\n",
       "                                                    TITLE  \n",
       "290758  Jogo / Kit De Serra Copo P/ Madeira C/ 12 Peça...  \n",
       "172094  Pomada Massageadora Fisiofort Bio Instinto Com...  \n",
       "473143  Cabo Hdmi De 2m 8pin 1080p Para Ipad Iphone 5/...  \n",
       "243255  Bota Feminina Bico Quadrado Comfort Couro De C...  \n",
       "485004  Bota Adventure + Palmilha Gel  Cat Original! M...  "
      ]
     },
     "execution_count": 6,
     "metadata": {},
     "output_type": "execute_result"
    }
   ],
   "source": [
    "df.sample(5)"
   ]
  },
  {
   "cell_type": "code",
   "execution_count": 7,
   "metadata": {},
   "outputs": [
    {
     "data": {
      "text/html": [
       "<div>\n",
       "<style scoped>\n",
       "    .dataframe tbody tr th:only-of-type {\n",
       "        vertical-align: middle;\n",
       "    }\n",
       "\n",
       "    .dataframe tbody tr th {\n",
       "        vertical-align: top;\n",
       "    }\n",
       "\n",
       "    .dataframe thead th {\n",
       "        text-align: right;\n",
       "    }\n",
       "</style>\n",
       "<table border=\"1\" class=\"dataframe\">\n",
       "  <thead>\n",
       "    <tr style=\"text-align: right;\">\n",
       "      <th></th>\n",
       "      <th>ITEM_ID</th>\n",
       "      <th>SHP_WEIGHT</th>\n",
       "      <th>SHP_LENGTH</th>\n",
       "      <th>SHP_WIDTH</th>\n",
       "      <th>SHP_HEIGHT</th>\n",
       "      <th>ATTRIBUTES</th>\n",
       "      <th>CATALOG_PRODUCT_ID</th>\n",
       "      <th>CONDITION</th>\n",
       "      <th>DOMAIN_ID</th>\n",
       "      <th>PRICE</th>\n",
       "      <th>SELLER_ID</th>\n",
       "      <th>STATUS</th>\n",
       "      <th>TITLE</th>\n",
       "    </tr>\n",
       "  </thead>\n",
       "  <tbody>\n",
       "    <tr>\n",
       "      <th>223835</th>\n",
       "      <td>BQEC9EQ5FA</td>\n",
       "      <td>972.0</td>\n",
       "      <td>25.0</td>\n",
       "      <td>25.0</td>\n",
       "      <td>10.0</td>\n",
       "      <td>[{'id': 'APPLICATION_ZONES', 'name': 'Zonas de...</td>\n",
       "      <td>H53U1H7Q5G</td>\n",
       "      <td>new</td>\n",
       "      <td>MLB-FACE_MASKS</td>\n",
       "      <td>38.90</td>\n",
       "      <td>F3QWINA6WI</td>\n",
       "      <td>active</td>\n",
       "      <td>Filme Negro ( Rolopac Orgânico) - 10x100</td>\n",
       "    </tr>\n",
       "    <tr>\n",
       "      <th>108165</th>\n",
       "      <td>B8S4YPU20M</td>\n",
       "      <td>9500.0</td>\n",
       "      <td>70.6</td>\n",
       "      <td>68.4</td>\n",
       "      <td>47.9</td>\n",
       "      <td>[{'id': 'BRAND', 'name': 'Marca', 'value_id': ...</td>\n",
       "      <td>H53U1H7Q5G</td>\n",
       "      <td>new</td>\n",
       "      <td>MLB-POOL_COVERS</td>\n",
       "      <td>450.80</td>\n",
       "      <td>TC08G42LAD</td>\n",
       "      <td>active</td>\n",
       "      <td>Capa Termica Azul 300 Micras Piscina Aquecida ...</td>\n",
       "    </tr>\n",
       "    <tr>\n",
       "      <th>129520</th>\n",
       "      <td>YYKN19D6DA</td>\n",
       "      <td>1324.0</td>\n",
       "      <td>40.0</td>\n",
       "      <td>25.0</td>\n",
       "      <td>25.0</td>\n",
       "      <td>[{'id': 'BODY_MATERIAL', 'name': 'Material do ...</td>\n",
       "      <td>H53U1H7Q5G</td>\n",
       "      <td>new</td>\n",
       "      <td>MLB-DRINK_DISPENSERS</td>\n",
       "      <td>42.99</td>\n",
       "      <td>OZ1BG8A2UN</td>\n",
       "      <td>active</td>\n",
       "      <td>Suqueira Vidro 3 Litros Torneira Refresqueira ...</td>\n",
       "    </tr>\n",
       "  </tbody>\n",
       "</table>\n",
       "</div>"
      ],
      "text/plain": [
       "           ITEM_ID  SHP_WEIGHT  SHP_LENGTH  SHP_WIDTH  SHP_HEIGHT  \\\n",
       "223835  BQEC9EQ5FA       972.0        25.0       25.0        10.0   \n",
       "108165  B8S4YPU20M      9500.0        70.6       68.4        47.9   \n",
       "129520  YYKN19D6DA      1324.0        40.0       25.0        25.0   \n",
       "\n",
       "                                               ATTRIBUTES CATALOG_PRODUCT_ID  \\\n",
       "223835  [{'id': 'APPLICATION_ZONES', 'name': 'Zonas de...         H53U1H7Q5G   \n",
       "108165  [{'id': 'BRAND', 'name': 'Marca', 'value_id': ...         H53U1H7Q5G   \n",
       "129520  [{'id': 'BODY_MATERIAL', 'name': 'Material do ...         H53U1H7Q5G   \n",
       "\n",
       "       CONDITION             DOMAIN_ID   PRICE   SELLER_ID  STATUS  \\\n",
       "223835       new        MLB-FACE_MASKS   38.90  F3QWINA6WI  active   \n",
       "108165       new       MLB-POOL_COVERS  450.80  TC08G42LAD  active   \n",
       "129520       new  MLB-DRINK_DISPENSERS   42.99  OZ1BG8A2UN  active   \n",
       "\n",
       "                                                    TITLE  \n",
       "223835           Filme Negro ( Rolopac Orgânico) - 10x100  \n",
       "108165  Capa Termica Azul 300 Micras Piscina Aquecida ...  \n",
       "129520  Suqueira Vidro 3 Litros Torneira Refresqueira ...  "
      ]
     },
     "execution_count": 7,
     "metadata": {},
     "output_type": "execute_result"
    }
   ],
   "source": [
    "df = df.dropna(subset=['SHP_WEIGHT'])\n",
    "df = df.dropna(subset=['SHP_LENGTH'])\n",
    "df = df.dropna(subset=['SHP_WIDTH'])\n",
    "df = df.dropna(subset=['SHP_HEIGHT'])\n",
    "df = df.dropna(subset=['PRICE'])\n",
    "df.sample(3)\n"
   ]
  },
  {
   "cell_type": "markdown",
   "metadata": {},
   "source": [
    "El objetivo del análisis es predecir el peso y tamaño de los artículos. A su vez el tamaño se puede descomponer en largo, altura y ancho.  Las cuatro variables a predecir son numéricas continuas .\n",
    "Probablemente la variable explicativa más importante sea DOMAIN_ID y ATTRIBUTES, dado que si se conoce el peso y tamaño de un artículo, los próximos envíos deberían tener las mismas características. En el caso de atributes, hay que preprocesar los datos para poder extraer algo de información.\n",
    "\n",
    "Luego se dispone de otras variables complementarias, cuya incorporación podría incrementar el poder predictivo del modelo: CONDITION, STATUS, PRICE, SELLER_ID.\n",
    "\n",
    "En primer lugar es conveniente relizar un análisis descriptivo, principalmente de las variables que se desea predecir."
   ]
  },
  {
   "cell_type": "markdown",
   "metadata": {},
   "source": [
    "## Analisis estadístico descriptivo de las variables peso, largo, altura y ancho"
   ]
  },
  {
   "cell_type": "code",
   "execution_count": 8,
   "metadata": {},
   "outputs": [
    {
     "data": {
      "text/html": [
       "<div>\n",
       "<style scoped>\n",
       "    .dataframe tbody tr th:only-of-type {\n",
       "        vertical-align: middle;\n",
       "    }\n",
       "\n",
       "    .dataframe tbody tr th {\n",
       "        vertical-align: top;\n",
       "    }\n",
       "\n",
       "    .dataframe thead th {\n",
       "        text-align: right;\n",
       "    }\n",
       "</style>\n",
       "<table border=\"1\" class=\"dataframe\">\n",
       "  <thead>\n",
       "    <tr style=\"text-align: right;\">\n",
       "      <th></th>\n",
       "      <th>SHP_WEIGHT</th>\n",
       "      <th>SHP_LENGTH</th>\n",
       "      <th>SHP_WIDTH</th>\n",
       "      <th>SHP_HEIGHT</th>\n",
       "      <th>PRICE</th>\n",
       "    </tr>\n",
       "  </thead>\n",
       "  <tbody>\n",
       "    <tr>\n",
       "      <th>count</th>\n",
       "      <td>261958.000000</td>\n",
       "      <td>261958.000000</td>\n",
       "      <td>261958.000000</td>\n",
       "      <td>261958.000000</td>\n",
       "      <td>2.619580e+05</td>\n",
       "    </tr>\n",
       "    <tr>\n",
       "      <th>mean</th>\n",
       "      <td>1922.105799</td>\n",
       "      <td>31.907828</td>\n",
       "      <td>21.603207</td>\n",
       "      <td>11.771460</td>\n",
       "      <td>1.610124e+03</td>\n",
       "    </tr>\n",
       "    <tr>\n",
       "      <th>std</th>\n",
       "      <td>3305.257451</td>\n",
       "      <td>19.030625</td>\n",
       "      <td>11.479848</td>\n",
       "      <td>8.458347</td>\n",
       "      <td>5.952876e+05</td>\n",
       "    </tr>\n",
       "    <tr>\n",
       "      <th>min</th>\n",
       "      <td>1.000000</td>\n",
       "      <td>0.000000</td>\n",
       "      <td>0.000000</td>\n",
       "      <td>0.000000</td>\n",
       "      <td>1.000000e-01</td>\n",
       "    </tr>\n",
       "    <tr>\n",
       "      <th>25%</th>\n",
       "      <td>260.000000</td>\n",
       "      <td>20.000000</td>\n",
       "      <td>13.000000</td>\n",
       "      <td>5.000000</td>\n",
       "      <td>4.890000e+01</td>\n",
       "    </tr>\n",
       "    <tr>\n",
       "      <th>50%</th>\n",
       "      <td>710.000000</td>\n",
       "      <td>25.000000</td>\n",
       "      <td>20.000000</td>\n",
       "      <td>10.000000</td>\n",
       "      <td>1.000000e+02</td>\n",
       "    </tr>\n",
       "    <tr>\n",
       "      <th>75%</th>\n",
       "      <td>2045.000000</td>\n",
       "      <td>37.000000</td>\n",
       "      <td>25.300000</td>\n",
       "      <td>16.000000</td>\n",
       "      <td>1.790000e+02</td>\n",
       "    </tr>\n",
       "    <tr>\n",
       "      <th>max</th>\n",
       "      <td>50000.000000</td>\n",
       "      <td>288.200000</td>\n",
       "      <td>165.000000</td>\n",
       "      <td>105.000000</td>\n",
       "      <td>3.032487e+08</td>\n",
       "    </tr>\n",
       "  </tbody>\n",
       "</table>\n",
       "</div>"
      ],
      "text/plain": [
       "          SHP_WEIGHT     SHP_LENGTH      SHP_WIDTH     SHP_HEIGHT  \\\n",
       "count  261958.000000  261958.000000  261958.000000  261958.000000   \n",
       "mean     1922.105799      31.907828      21.603207      11.771460   \n",
       "std      3305.257451      19.030625      11.479848       8.458347   \n",
       "min         1.000000       0.000000       0.000000       0.000000   \n",
       "25%       260.000000      20.000000      13.000000       5.000000   \n",
       "50%       710.000000      25.000000      20.000000      10.000000   \n",
       "75%      2045.000000      37.000000      25.300000      16.000000   \n",
       "max     50000.000000     288.200000     165.000000     105.000000   \n",
       "\n",
       "              PRICE  \n",
       "count  2.619580e+05  \n",
       "mean   1.610124e+03  \n",
       "std    5.952876e+05  \n",
       "min    1.000000e-01  \n",
       "25%    4.890000e+01  \n",
       "50%    1.000000e+02  \n",
       "75%    1.790000e+02  \n",
       "max    3.032487e+08  "
      ]
     },
     "execution_count": 8,
     "metadata": {},
     "output_type": "execute_result"
    }
   ],
   "source": [
    "df[['SHP_WEIGHT', 'SHP_LENGTH', 'SHP_WIDTH', \"SHP_HEIGHT\", \"PRICE\"]].describe()"
   ]
  },
  {
   "cell_type": "code",
   "execution_count": 9,
   "metadata": {},
   "outputs": [],
   "source": [
    "#plt.figure(figsize=(17,5))\n",
    "#seaborn.jointplot(data=df,\n",
    " #                 x='SHP_WEIGHT', y='STATUS', kind='hex')\n",
    "#seaborn.despine()"
   ]
  },
  {
   "cell_type": "code",
   "execution_count": 10,
   "metadata": {},
   "outputs": [
    {
     "data": {
      "text/plain": [
       "<matplotlib.axes._subplots.AxesSubplot at 0x1579c1fd940>"
      ]
     },
     "execution_count": 10,
     "metadata": {},
     "output_type": "execute_result"
    },
    {
     "data": {
      "image/png": "[encoded data removed]",
      "text/plain": [
       "<Figure size 432x144 with 1 Axes>"
      ]
     },
     "metadata": {
      "needs_background": "light"
     },
     "output_type": "display_data"
    },
    {
     "data": {
      "image/png": "[encoded data removed]",
      "text/plain": [
       "<Figure size 432x144 with 1 Axes>"
      ]
     },
     "metadata": {
      "needs_background": "light"
     },
     "output_type": "display_data"
    },
    {
     "data": {
      "image/png": "[encoded data removed]",
      "text/plain": [
       "<Figure size 432x144 with 1 Axes>"
      ]
     },
     "metadata": {
      "needs_background": "light"
     },
     "output_type": "display_data"
    },
    {
     "data": {
      "image/png": "[encoded data removed]",
      "text/plain": [
       "<Figure size 432x144 with 1 Axes>"
      ]
     },
     "metadata": {
      "needs_background": "light"
     },
     "output_type": "display_data"
    },
    {
     "data": {
      "image/png": "[encoded data removed]",
      "text/plain": [
       "<Figure size 1008x144 with 1 Axes>"
      ]
     },
     "metadata": {
      "needs_background": "light"
     },
     "output_type": "display_data"
    }
   ],
   "source": [
    "plt.figure(figsize=(6,2))\n",
    "seaborn.boxplot(x=\"SHP_WEIGHT\", data=df, palette=\"coolwarm\")\n",
    "plt.figure(figsize=(6,2))\n",
    "seaborn.boxplot(x=\"SHP_LENGTH\", data=df, palette=\"coolwarm\")\n",
    "plt.figure(figsize=(6,2))\n",
    "seaborn.boxplot(x=\"SHP_WIDTH\", data=df, palette=\"coolwarm\")\n",
    "plt.figure(figsize=(6,2))\n",
    "seaborn.boxplot(x=\"SHP_HEIGHT\", data=df, palette=\"coolwarm\")\n",
    "plt.figure(figsize=(14,2))\n",
    "seaborn.boxplot(x=\"PRICE\", data=df, palette=\"coolwarm\")"
   ]
  },
  {
   "cell_type": "code",
   "execution_count": 11,
   "metadata": {},
   "outputs": [
    {
     "name": "stdout",
     "output_type": "stream",
     "text": [
      "Kurtosis de SHP_WEIGHT: 20.3337741704888\n",
      "Swewness de SHP_WEIGHT: 3.8771461646001493\n"
     ]
    }
   ],
   "source": [
    "ku = sc.stats.kurtosis(df[\"SHP_WEIGHT\"])\n",
    "print('Kurtosis de SHP_WEIGHT: {}'.format(ku))\n",
    "sw = sc.stats.skew(df[\"SHP_WEIGHT\"])\n",
    "print('Swewness de SHP_WEIGHT: {}'.format(sw))"
   ]
  },
  {
   "cell_type": "code",
   "execution_count": 12,
   "metadata": {},
   "outputs": [
    {
     "name": "stdout",
     "output_type": "stream",
     "text": [
      "Kurtosis de SHP_LENGTH: 7.8631970565292395\n",
      "Swewness de SHP_LENGTH: 2.218799890787704\n"
     ]
    }
   ],
   "source": [
    "ku = sc.stats.kurtosis(df[\"SHP_LENGTH\"])\n",
    "print('Kurtosis de SHP_LENGTH: {}'.format(ku))\n",
    "sw = sc.stats.skew(df[\"SHP_LENGTH\"])\n",
    "print('Swewness de SHP_LENGTH: {}'.format(sw))"
   ]
  },
  {
   "cell_type": "code",
   "execution_count": 13,
   "metadata": {},
   "outputs": [
    {
     "name": "stdout",
     "output_type": "stream",
     "text": [
      "Kurtosis de SHP_WIDTH: 3.9594406619238782\n",
      "Swewness de SHP_WIDTH: 1.4387479349749213\n"
     ]
    }
   ],
   "source": [
    "ku = sc.stats.kurtosis(df[\"SHP_WIDTH\"])\n",
    "print('Kurtosis de SHP_WIDTH: {}'.format(ku))\n",
    "sw = sc.stats.skew(df[\"SHP_WIDTH\"])\n",
    "print('Swewness de SHP_WIDTH: {}'.format(sw))"
   ]
  },
  {
   "cell_type": "code",
   "execution_count": 14,
   "metadata": {},
   "outputs": [
    {
     "name": "stdout",
     "output_type": "stream",
     "text": [
      "Kurtosis de SHP_HEIGHT: 2.807968975403252\n",
      "Swewness de SHP_HEIGHT: 1.3916424998419754\n"
     ]
    }
   ],
   "source": [
    "ku = sc.stats.kurtosis(df[\"SHP_HEIGHT\"])\n",
    "print('Kurtosis de SHP_HEIGHT: {}'.format(ku))\n",
    "sw = sc.stats.skew(df[\"SHP_HEIGHT\"])\n",
    "print('Swewness de SHP_HEIGHT: {}'.format(sw))"
   ]
  },
  {
   "cell_type": "code",
   "execution_count": 15,
   "metadata": {},
   "outputs": [
    {
     "name": "stdout",
     "output_type": "stream",
     "text": [
      "Kurtosis de PRICE: 257073.23794598793\n",
      "Swewness de PRICE: 504.87146548769505\n"
     ]
    }
   ],
   "source": [
    "ku = sc.stats.kurtosis(df[\"PRICE\"])\n",
    "print('Kurtosis de PRICE: {}'.format(ku))\n",
    "sw = sc.stats.skew(df[\"PRICE\"])\n",
    "print('Swewness de PRICE: {}'.format(sw))"
   ]
  },
  {
   "cell_type": "code",
   "execution_count": 16,
   "metadata": {},
   "outputs": [
    {
     "data": {
      "image/png": "[encoded data removed]",
      "text/plain": [
       "<Figure size 576x360 with 1 Axes>"
      ]
     },
     "metadata": {
      "needs_background": "light"
     },
     "output_type": "display_data"
    }
   ],
   "source": [
    "plt.figure(figsize=(8, 5))\n",
    "seaborn.distplot(df['SHP_WEIGHT'], label='SHP_WEIGHT')\n",
    "seaborn.despine()"
   ]
  },
  {
   "cell_type": "code",
   "execution_count": 17,
   "metadata": {},
   "outputs": [
    {
     "data": {
      "image/png": "[encoded data removed]",
      "text/plain": [
       "<Figure size 576x360 with 1 Axes>"
      ]
     },
     "metadata": {
      "needs_background": "light"
     },
     "output_type": "display_data"
    }
   ],
   "source": [
    "plt.figure(figsize=(8,5))\n",
    "seaborn.distplot(df['SHP_WIDTH'], label='SHP_WIDTH')\n",
    "seaborn.despine()"
   ]
  },
  {
   "cell_type": "code",
   "execution_count": 18,
   "metadata": {},
   "outputs": [
    {
     "data": {
      "image/png": "[encoded data removed]",
      "text/plain": [
       "<Figure size 576x360 with 1 Axes>"
      ]
     },
     "metadata": {
      "needs_background": "light"
     },
     "output_type": "display_data"
    }
   ],
   "source": [
    "plt.figure(figsize=(8,5))\n",
    "seaborn.distplot(df['SHP_LENGTH'], label='SHP_LENGTH')\n",
    "seaborn.despine()"
   ]
  },
  {
   "cell_type": "code",
   "execution_count": 19,
   "metadata": {},
   "outputs": [
    {
     "data": {
      "image/png": "[encoded data removed]",
      "text/plain": [
       "<Figure size 576x360 with 1 Axes>"
      ]
     },
     "metadata": {
      "needs_background": "light"
     },
     "output_type": "display_data"
    }
   ],
   "source": [
    "plt.figure(figsize=(8,5))\n",
    "seaborn.distplot(df['SHP_HEIGHT'], label='SHP_HEIGHT')\n",
    "seaborn.despine()"
   ]
  },
  {
   "cell_type": "code",
   "execution_count": 20,
   "metadata": {},
   "outputs": [
    {
     "data": {
      "image/png": "[encoded data removed]",
      "text/plain": [
       "<Figure size 576x360 with 1 Axes>"
      ]
     },
     "metadata": {
      "needs_background": "light"
     },
     "output_type": "display_data"
    }
   ],
   "source": [
    "plt.figure(figsize=(8,5))\n",
    "seaborn.distplot(df['PRICE'], label='PRICE')\n",
    "seaborn.despine()"
   ]
  },
  {
   "cell_type": "code",
   "execution_count": 21,
   "metadata": {},
   "outputs": [
    {
     "data": {
      "text/plain": [
       "new              260579\n",
       "used               1023\n",
       "not_specified       356\n",
       "Name: CONDITION, dtype: int64"
      ]
     },
     "execution_count": 21,
     "metadata": {},
     "output_type": "execute_result"
    }
   ],
   "source": [
    "pd.value_counts(df['CONDITION'])"
   ]
  },
  {
   "cell_type": "code",
   "execution_count": 22,
   "metadata": {},
   "outputs": [
    {
     "data": {
      "text/plain": [
       "active    161502\n",
       "paused     82196\n",
       "closed     18260\n",
       "Name: STATUS, dtype: int64"
      ]
     },
     "execution_count": 22,
     "metadata": {},
     "output_type": "execute_result"
    }
   ],
   "source": [
    "pd.value_counts(df['STATUS'])"
   ]
  },
  {
   "cell_type": "code",
   "execution_count": 23,
   "metadata": {
    "scrolled": true
   },
   "outputs": [
    {
     "data": {
      "text/plain": [
       "MLB-VEHICLE_ACCESSORIES                            6856\n",
       "MLB-SUPPLEMENTS                                    5780\n",
       "MLB-VEHICLE_PARTS                                  4454\n",
       "MLB-HAIR_TREATMENTS                                3273\n",
       "MLB-BACKPACKS                                      3119\n",
       "MLB-HOME_APPLIANCES_ACCESSORIES_AND_SPARE_PARTS    2890\n",
       "MLB-CELLPHONE_LCD_SCREENS                          2865\n",
       "MLB-CELLPHONES                                     2738\n",
       "MLB-ARTS_AND_CRAFTS                                2606\n",
       "MLB-ELECTRONIC_PRODUCTS                            2538\n",
       "MLB-CELLPHONE_COVERS                               2354\n",
       "MLB-KITCHEN_SUPPLIES                               2339\n",
       "MLB-BOOTS_AND_BOOTIES                              2249\n",
       "MLB-T_SHIRTS                                       2186\n",
       "MLB-SOUVENIRS                                      2124\n",
       "MLB-COMPUTER_EQUIPMENT_AND_SPARE_PARTS             2008\n",
       "MLB-TOOLS                                          1958\n",
       "MLB-PERFUMES                                       1915\n",
       "MLB-BOOKS                                          1738\n",
       "MLB-CEILING_LIGHTS                                 1714\n",
       "MLB-DRESSES                                        1709\n",
       "MLB-WRISTWATCHES                                   1637\n",
       "MLB-HEADPHONES                                     1637\n",
       "MLB-ELECTRONIC_ACCESSORIES_AND_SPARE_PARTS         1580\n",
       "MLB-SNEAKERS                                       1510\n",
       "MLB-TOOL_ACCESSORIES_AND_SPARES                    1469\n",
       "MLB-TOYS_AND_GAMES                                 1383\n",
       "MLB-PANTS                                          1362\n",
       "MLB-ACTION_FIGURES                                 1272\n",
       "MLB-WATER_AND_EXTREME_SPORTS_EQUIPMENT             1271\n",
       "                                                   ... \n",
       "MLB-CHOPSTICKS                                        1\n",
       "MLB-KIDS_TABLES_AND_CHAIRS_SETS                       1\n",
       "MLB-LIVESTOCK_FEEDERS                                 1\n",
       "MLB-NAUTICAL_LADDERS                                  1\n",
       "MLB-AUTOMOTIVE_STEERING_U_JOINTS                      1\n",
       "MLB-TRANSFER_SWITCHES                                 1\n",
       "MLB-SALON_FURNITURE                                   1\n",
       "MLB-DRONES_FLEX_CABLES                                1\n",
       "MLB-STOLES                                            1\n",
       "MLB-ALUMINUM_FOILS                                    1\n",
       "MLB-BROOM_HOLDERS                                     1\n",
       "MLB-NETWORK_PLUG_COVERS                               1\n",
       "MLB-HIKING_SPORT_HELMETS                              1\n",
       "MLB-LIQUOR_DECANTERS                                  1\n",
       "MLB-BODYBOARDS                                        1\n",
       "MLB-GAME_CONSOLE_CAMERA_MOUNTS                        1\n",
       "MLB-BEER_FERMENTERS                                   1\n",
       "MLB-BEETLES                                           1\n",
       "MLB-EGG_HOLDERS                                       1\n",
       "MLB-CAR_BATTERIES                                     1\n",
       "MLB-WIRELESS_CHARGING_RECEIVERS                       1\n",
       "MLB-COIN_PURSES                                       1\n",
       "MLB-MICROWAVE_OMELETTE_MAKERS                         1\n",
       "MLB-TRAINING_HURDLES                                  1\n",
       "MLB-FOOD_FILM_WRAPPERS                                1\n",
       "MLB-INFLATABLE_SOFAS                                  1\n",
       "MLB-METAL_WIRES                                       1\n",
       "MLB-COGNACS                                           1\n",
       "MLB-PEANUTS                                           1\n",
       "MLB-DISH_RACKS                                        1\n",
       "Name: DOMAIN_ID, Length: 2763, dtype: int64"
      ]
     },
     "execution_count": 23,
     "metadata": {},
     "output_type": "execute_result"
    }
   ],
   "source": [
    "pd.value_counts(df['DOMAIN_ID'])"
   ]
  },
  {
   "cell_type": "code",
   "execution_count": 24,
   "metadata": {},
   "outputs": [
    {
     "data": {
      "image/png": "[encoded data removed]",
      "text/plain": [
       "<Figure size 432x288 with 1 Axes>"
      ]
     },
     "metadata": {
      "needs_background": "light"
     },
     "output_type": "display_data"
    }
   ],
   "source": [
    "plot = df['CONDITION'].value_counts().plot(kind='bar',\n",
    "                                            title='ENVIOS POR CONDICION')"
   ]
  },
  {
   "cell_type": "markdown",
   "metadata": {},
   "source": [
    "En los envíos por condición la categoria modal es nuevo como refleja el gráfico, superando ampliamente las demás categorías"
   ]
  },
  {
   "cell_type": "code",
   "execution_count": 25,
   "metadata": {},
   "outputs": [
    {
     "data": {
      "image/png": "[encoded data removed]",
      "text/plain": [
       "<Figure size 432x288 with 1 Axes>"
      ]
     },
     "metadata": {
      "needs_background": "light"
     },
     "output_type": "display_data"
    }
   ],
   "source": [
    "plot = df['STATUS'].value_counts().plot(kind='bar',\n",
    "                                            title='ENVIOS POR ESTADO')"
   ]
  },
  {
   "cell_type": "markdown",
   "metadata": {},
   "source": [
    "En los envíos por estado la categoria mas frecuente es activo"
   ]
  },
  {
   "cell_type": "markdown",
   "metadata": {},
   "source": [
    "## ¿Qué criterios les parece mejor para limpiar el dataset de datos faltantes?"
   ]
  },
  {
   "cell_type": "markdown",
   "metadata": {},
   "source": [
    "Los datos o el conjunto de datos del que disponemos a menudo no están completos para ser analizados apropiadamente.\n",
    "La limpieza de los datos consiste en reemplazarlos o eliminarlos de una forma tal que, el resultado final se vea afectado lo menos posible.\n",
    "Criterios que se podrían considerar para la limpieza:\n",
    "- Eliminar registros con datos faltantes, eliminado filas con 1 dato faltante, campos nulos que superen una cantidad, o ciertos campos nulos no permitidos\n",
    "- Reemplazar los valores faltantes con un dato que podría ser, la media, la mediana o la moda de acuerdo al tipo de distribución que tienen los datos\n",
    "- Comparar los resultados para analizar el impacto considerando ambas alternativas\n",
    "\n",
    "Para nuestro caso el criterio elegido es eliminar los registros en los que falte alguna de las medidas de peso, precio y volumen.\n",
    "Vamos a partir de datos completos y los registros que queden fuera del análisis pueden usarse a futuro para determinar Qué valor sería\n",
    "acorde para completarlos."
   ]
  },
  {
   "cell_type": "markdown",
   "metadata": {},
   "source": [
    "## Conclusiones sobre las distribuciones de las variables a predecir\n"
   ]
  },
  {
   "cell_type": "markdown",
   "metadata": {},
   "source": [
    "Se aprecia que las cuatro variables a predecir tienen distribuciones con asimetría izquierda bastante marcada, especialmente el peso de los productos. Adempas las cuatro distribuciones son leptocúrticas o sea mas puntiagudas de que la distribución normal. También puede decirse que las variables no tienen distribuciones tan heterogéneas como se podría esperar, pero sí presentan múltiples outliers."
   ]
  },
  {
   "cell_type": "markdown",
   "metadata": {},
   "source": [
    "## Categorias/Dominios con mayor homegeneidad y heterogeneidad"
   ]
  },
  {
   "cell_type": "code",
   "execution_count": 51,
   "metadata": {},
   "outputs": [
    {
     "name": "stdout",
     "output_type": "stream",
     "text": [
      "TOP 20 CATEGORIAS CON SHP_WEIGHT HETEROGENEO\n",
      "['MLB-SKIN_CARE_SUPPLIES' 'MLB-STREAMING_MEDIA_DEVICES'\n",
      " 'MLB-VEHICLE_ACCESSORIES' 'MLB-PANTS' 'MLB-PC_KEYBOARDS'\n",
      " 'MLB-FACIAL_SKIN_CARE_PRODUCTS' 'MLB-HOME_APPLIANCES'\n",
      " 'MLB-BICYCLE_GROUPSETS' 'MLB-COMBINED_TOOL_SETS'\n",
      " 'MLB-PC_THERMAL_COMPOUND_PASTES' 'MLB-KITCHEN_POTS'\n",
      " 'MLB-BOOTS_AND_BOOTIES' 'MLB-NEBULIZERS' 'MLB-NAIL_STRENGTHENERS'\n",
      " 'MLB-SHORTS' 'MLB-JACKETS_AND_COATS']\n",
      "TOP 20 CATEGORIAS CON SHP_LENGTH HETEROGENEO\n",
      "['MLB-SKIN_CARE_SUPPLIES' 'MLB-WATCH_BOXES' 'MLB-VEHICLE_ACCESSORIES'\n",
      " 'MLB-PANTS' 'MLB-PC_KEYBOARDS' 'MLB-FACIAL_SKIN_CARE_PRODUCTS'\n",
      " 'MLB-HOME_APPLIANCES' 'MLB-BICYCLE_GROUPSETS' 'MLB-COMBINED_TOOL_SETS'\n",
      " 'MLB-PC_THERMAL_COMPOUND_PASTES' 'MLB-KITCHEN_POTS'\n",
      " 'MLB-STREAMING_MEDIA_DEVICES' 'MLB-BOOTS_AND_BOOTIES'\n",
      " 'MLB-NAIL_STRENGTHENERS' 'MLB-SHORTS' 'MLB-BLOUSES']\n",
      "TOP 20 CATEGORIAS CON SHP_WIDTH HETEROGENEO\n",
      "['MLB-SKIN_CARE_SUPPLIES' 'MLB-WATCH_BOXES' 'MLB-VEHICLE_ACCESSORIES'\n",
      " 'MLB-PANTS' 'MLB-PC_KEYBOARDS' 'MLB-FACIAL_SKIN_CARE_PRODUCTS'\n",
      " 'MLB-HOME_APPLIANCES' 'MLB-BICYCLE_GROUPSETS' 'MLB-COMBINED_TOOL_SETS'\n",
      " 'MLB-PC_THERMAL_COMPOUND_PASTES' 'MLB-KITCHEN_POTS'\n",
      " 'MLB-STREAMING_MEDIA_DEVICES' 'MLB-BOOTS_AND_BOOTIES'\n",
      " 'MLB-NAIL_STRENGTHENERS' 'MLB-SHORTS' 'MLB-BLOUSES']\n",
      "TOP 20 CATEGORIAS CON SHP_HEIGHT HETEROGENEO\n",
      "['MLB-SKIN_CARE_SUPPLIES' 'MLB-WATCH_BOXES' 'MLB-VEHICLE_ACCESSORIES'\n",
      " 'MLB-PANTS' 'MLB-PC_KEYBOARDS' 'MLB-FACIAL_SKIN_CARE_PRODUCTS'\n",
      " 'MLB-HOME_APPLIANCES' 'MLB-BICYCLE_GROUPSETS' 'MLB-COMBINED_TOOL_SETS'\n",
      " 'MLB-PC_THERMAL_COMPOUND_PASTES' 'MLB-KITCHEN_POTS'\n",
      " 'MLB-STREAMING_MEDIA_DEVICES' 'MLB-BOOTS_AND_BOOTIES'\n",
      " 'MLB-NAIL_STRENGTHENERS' 'MLB-SHORTS' 'MLB-BLOUSES']\n"
     ]
    },
    {
     "name": "stderr",
     "output_type": "stream",
     "text": [
      "C:\\Anaconda3\\lib\\site-packages\\scipy\\stats\\stats.py:1025: RuntimeWarning: invalid value encountered in double_scalars\n",
      "  return a.std(axis) / a.mean(axis)\n"
     ]
    }
   ],
   "source": [
    "df = df.dropna(subset=['SHP_WEIGHT', 'SHP_LENGTH', 'SHP_WIDTH', 'SHP_HEIGHT', 'PRICE'])\n",
    "\n",
    "df = df.head(10000) #esto no iria, solo tomo 10000 para q no demore tanto\n",
    "\n",
    "for i, row in df.iterrows():\n",
    "\n",
    "    #setear en cada registro del data set el coeficiente de variacion de ese peso o medidas en nuevas columnas \n",
    "    #CF_SHP_WEIGHT, CF_x, CF_X, CF_X\n",
    "    \n",
    "    df.loc[i,'CF_SHP_WEIGHT'] = sc.stats.variation(df.loc[i,'SHP_WEIGHT'])\n",
    "    df.loc[i,'CF_SHP_LENGTH'] = sc.stats.variation(df.loc[i,'SHP_LENGTH'])\n",
    "    df.loc[i,'CF_SHP_WIDTH'] = sc.stats.variation(df.loc[i,'SHP_WIDTH'])\n",
    "    df.loc[i,'CF_SHP_HEIGHT'] = sc.stats.variation(df.loc[i,'SHP_HEIGHT'])\n",
    "    \n",
    "#Agrupando ordenando descendente los mejores coeficientes por cada variable de medicion\n",
    "#Los que tengan valores mas alto son los mas heterogeneos\n",
    "df_het_cf_shp_weight = df[['DOMAIN_ID', 'CF_SHP_WEIGHT']].sort_values('CF_SHP_WEIGHT', ascending=False)\n",
    "df_het_cf_shp_length = df[['DOMAIN_ID', 'CF_SHP_LENGTH']].sort_values('CF_SHP_LENGTH', ascending=False)\n",
    "df_het_cf_shp_width = df[['DOMAIN_ID', 'CF_SHP_WIDTH']].sort_values('CF_SHP_WIDTH', ascending=False)\n",
    "df_het_cf_shp_height = df[['DOMAIN_ID', 'CF_SHP_HEIGHT']].sort_values('CF_SHP_HEIGHT', ascending=False)\n",
    "\n",
    "#se armaron listas ordenadas con cada variable y se va a extraer las categorias unicas\n",
    "print('TOP 20 CATEGORIAS CON SHP_WEIGHT HETEROGENEO')\n",
    "print(df_het_cf_shp_weight['DOMAIN_ID'][:20].unique())\n",
    "\n",
    "print('TOP 20 CATEGORIAS CON SHP_LENGTH HETEROGENEO')\n",
    "print(df_het_cf_shp_length['DOMAIN_ID'][:20].unique())\n",
    "\n",
    "print('TOP 20 CATEGORIAS CON SHP_WIDTH HETEROGENEO')\n",
    "print(df_het_cf_shp_width['DOMAIN_ID'][:20].unique())\n",
    "\n",
    "print('TOP 20 CATEGORIAS CON SHP_HEIGHT HETEROGENEO')\n",
    "print(df_het_cf_shp_height['DOMAIN_ID'][:20].unique())\n",
    "\n",
    "\n",
    "#Los que tengan valores mas alto son los mas heterogeneos"
   ]
  },
  {
   "cell_type": "code",
   "execution_count": null,
   "metadata": {},
   "outputs": [],
   "source": [
    "## COMO TRATAR LOS OUTLIERS, SERGIO ANOTAR"
   ]
  },
  {
   "cell_type": "code",
   "execution_count": null,
   "metadata": {},
   "outputs": [],
   "source": []
  }
 ],
 "metadata": {
  "kernelspec": {
   "display_name": "Python 3",
   "language": "python",
   "name": "python3"
  },
  "language_info": {
   "codemirror_mode": {
    "name": "ipython",
    "version": 3
   },
   "file_extension": ".py",
   "mimetype": "text/x-python",
   "name": "python",
   "nbconvert_exporter": "python",
   "pygments_lexer": "ipython3",
   "version": "3.7.3"
  }
 },
 "nbformat": 4,
 "nbformat_minor": 2
}
