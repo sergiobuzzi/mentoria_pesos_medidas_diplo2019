{
 "cells": [
  {
   "cell_type": "markdown",
   "metadata": {},
   "source": [
    "# Estimación de peso y dimensiones de los envíos de Mercado Libre\n",
    "\n",
    "Este notebook es una versión mínima y necesaria para poder levantar el dataset [meli_dataset_20190426.csv](https://drive.google.com/open?id=1tNUKD1lf1z8C7LPpCruiDl6SKBAHb79v) y comprender los features que éste contiene.\n",
    "\n",
    "# Sobre el dataset\n",
    "El dataset corresponde a un muestreo de envíos durante tres meses de 2018 en MLB (Mercado Libre Brasil), filtrados según métodos de envíos y por carriers (empresas de correos a cargo del envío propiamente dicho). A su vez, fue muestreado de forma no uniforme para romper de forma manual la distribución de los datos."
   ]
  },
  {
   "cell_type": "code",
   "execution_count": null,
   "metadata": {},
   "outputs": [],
   "source": [
    "import pandas as pd\n",
    "import random\n",
    "import matplotlib.pyplot as plt\n",
    "import numpy\n",
    "import seaborn\n",
    "import scipy as sc"
   ]
  },
  {
   "cell_type": "code",
   "execution_count": null,
   "metadata": {},
   "outputs": [],
   "source": [
    "random.seed(0)"
   ]
  },
  {
   "cell_type": "code",
   "execution_count": null,
   "metadata": {},
   "outputs": [],
   "source": [
    "DATASET = 'meli_dataset_20190426.csv'"
   ]
  },
  {
   "cell_type": "code",
   "execution_count": null,
   "metadata": {},
   "outputs": [],
   "source": [
    "df = pd.read_csv(DATASET, low_memory=False)"
   ]
  },
  {
   "cell_type": "code",
   "execution_count": null,
   "metadata": {},
   "outputs": [],
   "source": [
    "df.columns"
   ]
  },
  {
   "cell_type": "markdown",
   "metadata": {},
   "source": [
    "#### ¿Qué significa cada columna?\n",
    "\n",
    "* ITEM_ID: id unívoco de cada item publicado. (Ofuscado)\n",
    "* SHP_WEIGHT: peso del paquete informado por el correo.\n",
    "* SHP_LENGTH: largo del paquete informado por el correo.\n",
    "* SHP_WIDTH: ancho del paquete informado por el correo.\n",
    "* SHP_HEIGHT: altura del paquete informado por el correo.\n",
    "* ATTRIBUTES: atributos como marca y modelo, entre otros, en formato json-lines\n",
    "* CATALOG_PRODUCT_ID: id del catálogo (ofuscado).\n",
    "* CONDITION: condición de venta (nuevo o usado).\n",
    "* DOMAIN_ID: id de la categoría a la que pertenece la publicación.\n",
    "* PRICE: precio en reales.\n",
    "* SELLER_ID: id del vendedor (ofuscado).\n",
    "* STATUS: estado de la publicación (activa, cerrada, pausada, etc.)\n",
    "* TITLE: título de la publicación."
   ]
  },
  {
   "cell_type": "code",
   "execution_count": null,
   "metadata": {},
   "outputs": [],
   "source": [
    "df.sample(5)"
   ]
  },
  {
   "cell_type": "code",
   "execution_count": null,
   "metadata": {},
   "outputs": [],
   "source": [
    "df = df.dropna(subset=['SHP_WEIGHT'])\n",
    "df = df.dropna(subset=['SHP_LENGTH'])\n",
    "df = df.dropna(subset=['SHP_WIDTH'])\n",
    "df = df.dropna(subset=['SHP_HEIGHT'])\n",
    "df = df.dropna(subset=['PRICE'])\n",
    "df.sample(3)\n"
   ]
  },
  {
   "cell_type": "markdown",
   "metadata": {},
   "source": [
    "El objetivo del análisis es predecir el peso y tamaño de los artículos. A su vez el tamaño se puede descomponer en largo, altura y ancho.  Las cuatro variables a predecir son numéricas continuas .\n",
    "Probablemente la variable explicativa más importante sea DOMAIN_ID y ATTRIBUTES, dado que si se conoce el peso y tamaño de un artículo, los próximos envíos deberían tener las mismas características. En el caso de atributes, hay que preprocesar los datos para poder extraer algo de información.\n",
    "\n",
    "Luego se dispone de otras variables complementarias, cuya incorporación podría incrementar el poder predictivo del modelo: CONDITION, STATUS, PRICE, SELLER_ID.\n",
    "\n",
    "En primer lugar es conveniente relizar un análisis descriptivo, principalmente de las variables que se desea predecir."
   ]
  },
  {
   "cell_type": "markdown",
   "metadata": {},
   "source": [
    "## Analisis estadístico descriptivo de las variables peso, largo, altura y ancho"
   ]
  },
  {
   "cell_type": "code",
   "execution_count": null,
   "metadata": {},
   "outputs": [],
   "source": [
    "df[['SHP_WEIGHT', 'SHP_LENGTH', 'SHP_WIDTH', \"SHP_HEIGHT\", \"PRICE\"]].describe()"
   ]
  },
  {
   "cell_type": "code",
   "execution_count": null,
   "metadata": {},
   "outputs": [],
   "source": [
    "#plt.figure(figsize=(17,5))\n",
    "#seaborn.jointplot(data=df,\n",
    " #                 x='SHP_WEIGHT', y='STATUS', kind='hex')\n",
    "#seaborn.despine()"
   ]
  },
  {
   "cell_type": "code",
   "execution_count": null,
   "metadata": {},
   "outputs": [],
   "source": [
    "plt.figure(figsize=(6,2))\n",
    "seaborn.boxplot(x=\"SHP_WEIGHT\", data=df, palette=\"coolwarm\")\n",
    "plt.figure(figsize=(6,2))\n",
    "seaborn.boxplot(x=\"SHP_LENGTH\", data=df, palette=\"coolwarm\")\n",
    "plt.figure(figsize=(6,2))\n",
    "seaborn.boxplot(x=\"SHP_WIDTH\", data=df, palette=\"coolwarm\")\n",
    "plt.figure(figsize=(6,2))\n",
    "seaborn.boxplot(x=\"SHP_HEIGHT\", data=df, palette=\"coolwarm\")\n",
    "plt.figure(figsize=(14,2))\n",
    "seaborn.boxplot(x=\"PRICE\", data=df, palette=\"coolwarm\")"
   ]
  },
  {
   "cell_type": "code",
   "execution_count": null,
   "metadata": {},
   "outputs": [],
   "source": [
    "ku = sc.stats.kurtosis(df[\"SHP_WEIGHT\"])\n",
    "print('Kurtosis de SHP_WEIGHT: {}'.format(ku))\n",
    "sw = sc.stats.skew(df[\"SHP_WEIGHT\"])\n",
    "print('Swewness de SHP_WEIGHT: {}'.format(sw))"
   ]
  },
  {
   "cell_type": "code",
   "execution_count": null,
   "metadata": {},
   "outputs": [],
   "source": [
    "ku = sc.stats.kurtosis(df[\"SHP_LENGTH\"])\n",
    "print('Kurtosis de SHP_LENGTH: {}'.format(ku))\n",
    "sw = sc.stats.skew(df[\"SHP_LENGTH\"])\n",
    "print('Swewness de SHP_LENGTH: {}'.format(sw))"
   ]
  },
  {
   "cell_type": "code",
   "execution_count": null,
   "metadata": {},
   "outputs": [],
   "source": [
    "ku = sc.stats.kurtosis(df[\"SHP_WIDTH\"])\n",
    "print('Kurtosis de SHP_WIDTH: {}'.format(ku))\n",
    "sw = sc.stats.skew(df[\"SHP_WIDTH\"])\n",
    "print('Swewness de SHP_WIDTH: {}'.format(sw))"
   ]
  },
  {
   "cell_type": "code",
   "execution_count": null,
   "metadata": {},
   "outputs": [],
   "source": [
    "ku = sc.stats.kurtosis(df[\"SHP_HEIGHT\"])\n",
    "print('Kurtosis de SHP_HEIGHT: {}'.format(ku))\n",
    "sw = sc.stats.skew(df[\"SHP_HEIGHT\"])\n",
    "print('Swewness de SHP_HEIGHT: {}'.format(sw))"
   ]
  },
  {
   "cell_type": "code",
   "execution_count": null,
   "metadata": {},
   "outputs": [],
   "source": [
    "ku = sc.stats.kurtosis(df[\"PRICE\"])\n",
    "print('Kurtosis de PRICE: {}'.format(ku))\n",
    "sw = sc.stats.skew(df[\"PRICE\"])\n",
    "print('Swewness de PRICE: {}'.format(sw))"
   ]
  },
  {
   "cell_type": "code",
   "execution_count": null,
   "metadata": {},
   "outputs": [],
   "source": [
    "plt.figure(figsize=(8, 5))\n",
    "seaborn.distplot(df['SHP_WEIGHT'], label='SHP_WEIGHT')\n",
    "seaborn.despine()"
   ]
  },
  {
   "cell_type": "code",
   "execution_count": null,
   "metadata": {},
   "outputs": [],
   "source": [
    "plt.figure(figsize=(8,5))\n",
    "seaborn.distplot(df['SHP_WIDTH'], label='SHP_WIDTH')\n",
    "seaborn.despine()"
   ]
  },
  {
   "cell_type": "code",
   "execution_count": null,
   "metadata": {},
   "outputs": [],
   "source": [
    "plt.figure(figsize=(8,5))\n",
    "seaborn.distplot(df['SHP_LENGTH'], label='SHP_LENGTH')\n",
    "seaborn.despine()"
   ]
  },
  {
   "cell_type": "code",
   "execution_count": null,
   "metadata": {},
   "outputs": [],
   "source": [
    "plt.figure(figsize=(8,5))\n",
    "seaborn.distplot(df['SHP_HEIGHT'], label='SHP_HEIGHT')\n",
    "seaborn.despine()"
   ]
  },
  {
   "cell_type": "code",
   "execution_count": 40,
   "metadata": {},
   "outputs": [
    {
     "name": "stderr",
     "output_type": "stream",
     "text": [
      "C:\\Anaconda3\\lib\\site-packages\\numpy\\core\\_methods.py:140: RuntimeWarning: Degrees of freedom <= 0 for slice\n",
      "  keepdims=keepdims)\n",
      "C:\\Anaconda3\\lib\\site-packages\\numpy\\core\\_methods.py:132: RuntimeWarning: invalid value encountered in double_scalars\n",
      "  ret = ret.dtype.type(ret / rcount)\n"
     ]
    },
    {
     "data": {
      "image/png": "[encoded data removed]",
      "text/plain": [
       "<Figure size 576x360 with 1 Axes>"
      ]
     },
     "metadata": {
      "needs_background": "light"
     },
     "output_type": "display_data"
    }
   ],
   "source": [
    "plt.figure(figsize=(8,5))\n",
    "seaborn.distplot(df['PRICE'], label='PRICE')\n",
    "seaborn.despine()"
   ]
  },
  {
   "cell_type": "code",
   "execution_count": 41,
   "metadata": {},
   "outputs": [
    {
     "data": {
      "text/plain": [
       "new    1\n",
       "Name: CONDITION, dtype: int64"
      ]
     },
     "execution_count": 41,
     "metadata": {},
     "output_type": "execute_result"
    }
   ],
   "source": [
    "pd.value_counts(df['CONDITION'])"
   ]
  },
  {
   "cell_type": "code",
   "execution_count": 42,
   "metadata": {},
   "outputs": [
    {
     "data": {
      "text/plain": [
       "active    1\n",
       "Name: STATUS, dtype: int64"
      ]
     },
     "execution_count": 42,
     "metadata": {},
     "output_type": "execute_result"
    }
   ],
   "source": [
    "pd.value_counts(df['STATUS'])"
   ]
  },
  {
   "cell_type": "code",
   "execution_count": 43,
   "metadata": {
    "scrolled": true
   },
   "outputs": [
    {
     "data": {
      "text/plain": [
       "MLB-SKIN_CARE_SUPPLIES    1\n",
       "Name: DOMAIN_ID, dtype: int64"
      ]
     },
     "execution_count": 43,
     "metadata": {},
     "output_type": "execute_result"
    }
   ],
   "source": [
    "pd.value_counts(df['DOMAIN_ID'])"
   ]
  },
  {
   "cell_type": "code",
   "execution_count": 44,
   "metadata": {},
   "outputs": [
    {
     "data": {
      "image/png": "[encoded data removed]",
      "text/plain": [
       "<Figure size 432x288 with 1 Axes>"
      ]
     },
     "metadata": {
      "needs_background": "light"
     },
     "output_type": "display_data"
    }
   ],
   "source": [
    "plot = df['CONDITION'].value_counts().plot(kind='bar',\n",
    "                                            title='ENVIOS POR CONDICION')"
   ]
  },
  {
   "cell_type": "markdown",
   "metadata": {},
   "source": [
    "En los envíos por condición la categoria modal es nuevo como refleja el gráfico, superando ampliamente las demás categorías"
   ]
  },
  {
   "cell_type": "code",
   "execution_count": 45,
   "metadata": {},
   "outputs": [
    {
     "data": {
      "image/png": "[encoded data removed]",
      "text/plain": [
       "<Figure size 432x288 with 1 Axes>"
      ]
     },
     "metadata": {
      "needs_background": "light"
     },
     "output_type": "display_data"
    }
   ],
   "source": [
    "plot = df['STATUS'].value_counts().plot(kind='bar',\n",
    "                                            title='ENVIOS POR ESTADO')"
   ]
  },
  {
   "cell_type": "markdown",
   "metadata": {},
   "source": [
    "En los envíos por estado la categoria mas frecuente es activo"
   ]
  },
  {
   "cell_type": "markdown",
   "metadata": {},
   "source": [
    "## ¿Qué criterios les parece mejor para limpiar el dataset de datos faltantes?"
   ]
  },
  {
   "cell_type": "markdown",
   "metadata": {},
   "source": [
    "Los datos o el conjunto de datos del que disponemos a menudo no están completos para ser analizados apropiadamente.\n",
    "La limpieza de los datos consiste en reemplazarlos o eliminarlos de una forma tal que, el resultado final se vea afectado lo menos posible.\n",
    "Criterios que se podrían considerar para la limpieza:\n",
    "- Eliminar registros con datos faltantes, eliminado filas con 1 dato faltante, campos nulos que superen una cantidad, o ciertos campos nulos no permitidos\n",
    "- Reemplazar los valores faltantes con un dato que podría ser, la media, la mediana o la moda de acuerdo al tipo de distribución que tienen los datos\n",
    "- Comparar los resultados para analizar el impacto considerando ambas alternativas\n",
    "\n",
    "Para nuestro caso el criterio elegido es eliminar los registros en los que falte alguna de las medidas de peso, precio y volumen.\n",
    "Vamos a partir de datos completos y los registros que queden fuera del análisis pueden usarse a futuro para determinar Qué valor sería\n",
    "acorde para completarlos."
   ]
  },
  {
   "cell_type": "markdown",
   "metadata": {},
   "source": [
    "## Conclusiones sobre las distribuciones de las variables a predecir\n"
   ]
  },
  {
   "cell_type": "markdown",
   "metadata": {},
   "source": [
    "Se aprecia que las cuatro variables a predecir tienen distribuciones con asimetría izquierda bastante marcada, especialmente el peso de los productos. Adempas las cuatro distribuciones son leptocúrticas o sea mas puntiagudas de que la distribución normal. También puede decirse que las variables no tienen distribuciones tan heterogéneas como se podría esperar, pero sí presentan múltiples outliers."
   ]
  },
  {
   "cell_type": "code",
   "execution_count": 47,
   "metadata": {},
   "outputs": [
    {
     "name": "stdout",
     "output_type": "stream",
     "text": [
      "      ITEM_ID  SHP_WEIGHT  SHP_LENGTH  SHP_WIDTH  SHP_HEIGHT  \\\n",
      "1  SN7ISIGQ9J       235.0        25.0       25.0        10.0   \n",
      "\n",
      "                                          ATTRIBUTES CATALOG_PRODUCT_ID  \\\n",
      "1  [{'id': 'BRAND', 'name': 'Marca', 'value_id': ...         H53U1H7Q5G   \n",
      "\n",
      "  CONDITION               DOMAIN_ID  PRICE   SELLER_ID  STATUS  \\\n",
      "1       new  MLB-SKIN_CARE_SUPPLIES   68.0  QF4OJMYQ9Q  active   \n",
      "\n",
      "                                               TITLE  \n",
      "1  Ácido Hidroquinona 20%   30g + Sabonete Pré Pe...  \n",
      "[nan]\n"
     ]
    }
   ],
   "source": [
    "df = df.head(50)\n",
    "\n",
    "categorias = list(df['DOMAIN_ID'].unique())\n",
    "cvs_list = []\n",
    "\n",
    "for categoria in categorias:\n",
    "    pesos = df['SHP_WEIGHT'][df['DOMAIN_ID'] == categoria]\n",
    "    cf = pesos.std() / pesos.mean()\n",
    "    cvs_list.append(cf)\n",
    "   # print(categoria,  'Coef. Var:', cf)\n",
    "\n",
    "\n",
    "print(df)\n",
    "print(cvs_list)\n",
    "\n",
    "#guardo en una lista todos los coeficientes, y el nombre de la categoria \n",
    "#ordenamos los 10 mas grandes por coeficiente y mostramos que son los mas heterogeneos\n",
    "\n",
    "#ESTO TIENE Q SER PARA CADA VARIABLE DE PESO Y MEDIDAS"
   ]
  },
  {
   "cell_type": "code",
   "execution_count": 48,
   "metadata": {},
   "outputs": [],
   "source": [
    "## COMO TRATAR LOS OUTLIERS, SERGIO ANOTAR"
   ]
  },
  {
   "cell_type": "code",
   "execution_count": null,
   "metadata": {},
   "outputs": [],
   "source": []
  },
  {
   "cell_type": "code",
   "execution_count": null,
   "metadata": {},
   "outputs": [],
   "source": []
  }
 ],
 "metadata": {
  "kernelspec": {
   "display_name": "Python 3",
   "language": "python",
   "name": "python3"
  }
 },
 "nbformat": 4,
 "nbformat_minor": 2
}
