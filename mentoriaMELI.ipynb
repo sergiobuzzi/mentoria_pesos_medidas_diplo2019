{
 "cells": [
  {
   "cell_type": "markdown",
   "metadata": {},
   "source": [
    "# Estimación de peso y dimensiones de los envíos de Mercado Libre\n",
    "\n",
    "Este notebook es una versión mínima y necesaria para poder levantar el dataset [meli_dataset_20190426.csv](https://drive.google.com/open?id=1tNUKD1lf1z8C7LPpCruiDl6SKBAHb79v) y comprender los features que éste contiene.\n",
    "\n",
    "## Sobre el dataset\n",
    "El dataset corresponde a un muestreo de envíos durante tres meses de 2018 en MLB (Mercado Libre Brasil), filtrados según métodos de envíos y por carriers (empresas de correos a cargo del envío propiamente dicho). A su vez, fue muestreado de forma no uniforme para romper de forma manual la distribución de los datos."
   ]
  },
  {
   "cell_type": "markdown",
   "metadata": {},
   "source": [
    "#### ¿Qué significa cada columna?\n",
    "\n",
    "* ITEM_ID: id unívoco de cada item publicado. (Ofuscado)\n",
    "* SHP_WEIGHT: peso del paquete informado por el correo.\n",
    "* SHP_LENGTH: largo del paquete informado por el correo.\n",
    "* SHP_WIDTH: ancho del paquete informado por el correo.\n",
    "* SHP_HEIGHT: altura del paquete informado por el correo.\n",
    "* ATTRIBUTES: atributos como marca y modelo, entre otros, en formato json-lines\n",
    "* CATALOG_PRODUCT_ID: id del catálogo (ofuscado).\n",
    "* CONDITION: condición de venta (nuevo o usado).\n",
    "* DOMAIN_ID: id de la categoría a la que pertenece la publicación.\n",
    "* PRICE: precio en reales.\n",
    "* SELLER_ID: id del vendedor (ofuscado).\n",
    "* STATUS: estado de la publicación (activa, cerrada, pausada, etc.)\n",
    "* TITLE: título de la publicación."
   ]
  },
  {
   "cell_type": "markdown",
   "metadata": {},
   "source": [
    "El objetivo del análisis es predecir el peso y tamaño de los artículos. A su vez el tamaño se puede descomponer en largo, altura y ancho.  Las cuatro variables a predecir son numéricas continuas .\n",
    "Probablemente la variable explicativa más importante sea CATALOG_PRODUCT_ID, dado que si se conoce el peso y tamaño de un artículo, los próximos envíos deberían tener las mismas características. \n",
    "\n",
    "En el caso de envíos de productos no catalogados previamente, es de esperar que tomen relevancia las variables ATRIBUTES, TITTLE, SELLER_ID, DOMANIN_ID. En el caso de atributes, hay que preprocesar los datoa pra poder extraer algo de información.\n",
    "\n",
    "Luego se dispone de otras variables complementarias, cuya incorporación podría incrementar el poder predictivo del modelo: CONDITION, STATUS, PRICE.\n",
    "\n",
    "En primer lugar es conveniente relizar un análisis descriptivo, principalmente de las variables que se desea predecir."
   ]
  },
  {
   "cell_type": "markdown",
   "metadata": {},
   "source": [
    "## Carga de la base de datos"
   ]
  },
  {
   "cell_type": "code",
   "execution_count": 10,
   "metadata": {},
   "outputs": [
    {
     "name": "stderr",
     "output_type": "stream",
     "text": [
      "Parsed with column specification:\n",
      "cols(\n",
      "  ITEM_ID = col_character(),\n",
      "  SHP_WEIGHT = col_double(),\n",
      "  SHP_LENGTH = col_double(),\n",
      "  SHP_WIDTH = col_double(),\n",
      "  SHP_HEIGHT = col_double(),\n",
      "  ATTRIBUTES = col_character(),\n",
      "  CATALOG_PRODUCT_ID = col_character(),\n",
      "  CONDITION = col_character(),\n",
      "  DOMAIN_ID = col_character(),\n",
      "  PRICE = col_double(),\n",
      "  SELLER_ID = col_character(),\n",
      "  STATUS = col_character(),\n",
      "  TITLE = col_character()\n",
      ")\n"
     ]
    }
   ],
   "source": [
    "#importación de bibliotecas\n",
    "library(readr)\n",
    "library(psych)\n",
    "library(ggplot2)\n",
    "options(repr.plot.width=5, repr.plot.height=3)\n",
    "#carga del dataset\n",
    "df  <- read_csv(\"~/GitHub/mentoria_pesos_medidas_diplo2019/meli_dataset_20190426.csv\")"
   ]
  },
  {
   "cell_type": "markdown",
   "metadata": {},
   "source": [
    "## Descripción express del dataset"
   ]
  },
  {
   "cell_type": "code",
   "execution_count": 2,
   "metadata": {},
   "outputs": [
    {
     "data": {
      "text/html": [
       "<ol class=list-inline>\n",
       "\t<li>'ITEM_ID'</li>\n",
       "\t<li>'SHP_WEIGHT'</li>\n",
       "\t<li>'SHP_LENGTH'</li>\n",
       "\t<li>'SHP_WIDTH'</li>\n",
       "\t<li>'SHP_HEIGHT'</li>\n",
       "\t<li>'ATTRIBUTES'</li>\n",
       "\t<li>'CATALOG_PRODUCT_ID'</li>\n",
       "\t<li>'CONDITION'</li>\n",
       "\t<li>'DOMAIN_ID'</li>\n",
       "\t<li>'PRICE'</li>\n",
       "\t<li>'SELLER_ID'</li>\n",
       "\t<li>'STATUS'</li>\n",
       "\t<li>'TITLE'</li>\n",
       "</ol>\n"
      ],
      "text/latex": [
       "\\begin{enumerate*}\n",
       "\\item 'ITEM\\_ID'\n",
       "\\item 'SHP\\_WEIGHT'\n",
       "\\item 'SHP\\_LENGTH'\n",
       "\\item 'SHP\\_WIDTH'\n",
       "\\item 'SHP\\_HEIGHT'\n",
       "\\item 'ATTRIBUTES'\n",
       "\\item 'CATALOG\\_PRODUCT\\_ID'\n",
       "\\item 'CONDITION'\n",
       "\\item 'DOMAIN\\_ID'\n",
       "\\item 'PRICE'\n",
       "\\item 'SELLER\\_ID'\n",
       "\\item 'STATUS'\n",
       "\\item 'TITLE'\n",
       "\\end{enumerate*}\n"
      ],
      "text/markdown": [
       "1. 'ITEM_ID'\n",
       "2. 'SHP_WEIGHT'\n",
       "3. 'SHP_LENGTH'\n",
       "4. 'SHP_WIDTH'\n",
       "5. 'SHP_HEIGHT'\n",
       "6. 'ATTRIBUTES'\n",
       "7. 'CATALOG_PRODUCT_ID'\n",
       "8. 'CONDITION'\n",
       "9. 'DOMAIN_ID'\n",
       "10. 'PRICE'\n",
       "11. 'SELLER_ID'\n",
       "12. 'STATUS'\n",
       "13. 'TITLE'\n",
       "\n",
       "\n"
      ],
      "text/plain": [
       " [1] \"ITEM_ID\"            \"SHP_WEIGHT\"         \"SHP_LENGTH\"        \n",
       " [4] \"SHP_WIDTH\"          \"SHP_HEIGHT\"         \"ATTRIBUTES\"        \n",
       " [7] \"CATALOG_PRODUCT_ID\" \"CONDITION\"          \"DOMAIN_ID\"         \n",
       "[10] \"PRICE\"              \"SELLER_ID\"          \"STATUS\"            \n",
       "[13] \"TITLE\"             "
      ]
     },
     "metadata": {},
     "output_type": "display_data"
    }
   ],
   "source": [
    "names(df)"
   ]
  },
  {
   "cell_type": "code",
   "execution_count": 3,
   "metadata": {},
   "outputs": [
    {
     "data": {
      "text/plain": [
       "   ITEM_ID            SHP_WEIGHT       SHP_LENGTH       SHP_WIDTH     \n",
       " Length:499948      Min.   :    1    Min.   :  0.00   Min.   :  0.00  \n",
       " Class :character   1st Qu.:  260    1st Qu.: 20.00   1st Qu.: 13.00  \n",
       " Mode  :character   Median :  675    Median : 25.00   Median : 20.00  \n",
       "                    Mean   : 1855    Mean   : 31.45   Mean   : 21.29  \n",
       "                    3rd Qu.: 1900    3rd Qu.: 36.00   3rd Qu.: 25.00  \n",
       "                    Max.   :50000    Max.   :288.20   Max.   :165.00  \n",
       "                    NA's   :152197   NA's   :152197   NA's   :152197  \n",
       "   SHP_HEIGHT      ATTRIBUTES        CATALOG_PRODUCT_ID  CONDITION        \n",
       " Min.   :  0.00   Length:499948      Length:499948      Length:499948     \n",
       " 1st Qu.:  5.00   Class :character   Class :character   Class :character  \n",
       " Median : 10.00   Mode  :character   Mode  :character   Mode  :character  \n",
       " Mean   : 11.58                                                           \n",
       " 3rd Qu.: 16.00                                                           \n",
       " Max.   :105.00                                                           \n",
       " NA's   :152197                                                           \n",
       "  DOMAIN_ID             PRICE            SELLER_ID            STATUS         \n",
       " Length:499948      Min.   :        0   Length:499948      Length:499948     \n",
       " Class :character   1st Qu.:       45   Class :character   Class :character  \n",
       " Mode  :character   Median :       95   Mode  :character   Mode  :character  \n",
       "                    Mean   :     1206                                        \n",
       "                    3rd Qu.:      172                                        \n",
       "                    Max.   :303248715                                        \n",
       "                    NA's   :131404                                           \n",
       "    TITLE          \n",
       " Length:499948     \n",
       " Class :character  \n",
       " Mode  :character  \n",
       "                   \n",
       "                   \n",
       "                   \n",
       "                   "
      ]
     },
     "metadata": {},
     "output_type": "display_data"
    }
   ],
   "source": [
    "summary(df)"
   ]
  },
  {
   "cell_type": "code",
   "execution_count": 11,
   "metadata": {},
   "outputs": [],
   "source": [
    "# Eliminación de faltantes de las variables a predecir\n",
    "df <- df[ !is.na(df$SHP_WEIGHT) &!is.na(df$SHP_LENGTH)\n",
    "          & !is.na(df$SHP_WIDTH) & !is.na(df$SHP_HEIGHT),]\n",
    "\n",
    "#head(df[2:5])"
   ]
  },
  {
   "cell_type": "markdown",
   "metadata": {},
   "source": [
    "### Estadisticas descriptivas de las variables a predecir"
   ]
  },
  {
   "cell_type": "code",
   "execution_count": 6,
   "metadata": {},
   "outputs": [
    {
     "name": "stderr",
     "output_type": "stream",
     "text": [
      "Warning message in describeBy(df[2:5], IQR = TRUE):\n",
      "\"no grouping variable requested\""
     ]
    },
    {
     "data": {
      "text/html": [
       "<table>\n",
       "<thead><tr><th></th><th scope=col>vars</th><th scope=col>n</th><th scope=col>mean</th><th scope=col>sd</th><th scope=col>median</th><th scope=col>trimmed</th><th scope=col>mad</th><th scope=col>min</th><th scope=col>max</th><th scope=col>range</th><th scope=col>skew</th><th scope=col>kurtosis</th><th scope=col>se</th></tr></thead>\n",
       "<tbody>\n",
       "\t<tr><th scope=row>SHP_WEIGHT</th><td>1          </td><td>347751     </td><td>1854.78958 </td><td>3257.884009</td><td>675        </td><td>1089.61017 </td><td>763.5390   </td><td>1          </td><td>50000.0    </td><td>49999.0    </td><td>3.915336   </td><td>20.399119  </td><td>5.52460744 </td></tr>\n",
       "\t<tr><th scope=row>SHP_LENGTH</th><td>2          </td><td>347751     </td><td>  31.45115 </td><td>  18.339895</td><td> 25        </td><td>  28.45987 </td><td> 10.3782   </td><td>0          </td><td>  288.2    </td><td>  288.2    </td><td>2.210774   </td><td> 7.986324  </td><td>0.03110016 </td></tr>\n",
       "\t<tr><th scope=row>SHP_WIDTH</th><td>3          </td><td>347751     </td><td>  21.29028 </td><td>  11.217308</td><td> 20        </td><td>  19.84083 </td><td>  8.8956   </td><td>0          </td><td>  165.0    </td><td>  165.0    </td><td>1.448877   </td><td> 4.010070  </td><td>0.01902192 </td></tr>\n",
       "\t<tr><th scope=row>SHP_HEIGHT</th><td>4          </td><td>347751     </td><td>  11.57858 </td><td>   8.310821</td><td> 10        </td><td>  10.45260 </td><td>  7.4130   </td><td>0          </td><td>  105.0    </td><td>  105.0    </td><td>1.423123   </td><td> 2.942553  </td><td>0.01409320 </td></tr>\n",
       "</tbody>\n",
       "</table>\n"
      ],
      "text/latex": [
       "\\begin{tabular}{r|lllllllllllll}\n",
       "  & vars & n & mean & sd & median & trimmed & mad & min & max & range & skew & kurtosis & se\\\\\n",
       "\\hline\n",
       "\tSHP\\_WEIGHT & 1           & 347751      & 1854.78958  & 3257.884009 & 675         & 1089.61017  & 763.5390    & 1           & 50000.0     & 49999.0     & 3.915336    & 20.399119   & 5.52460744 \\\\\n",
       "\tSHP\\_LENGTH & 2           & 347751      &   31.45115  &   18.339895 &  25         &   28.45987  &  10.3782    & 0           &   288.2     &   288.2     & 2.210774    &  7.986324   & 0.03110016 \\\\\n",
       "\tSHP\\_WIDTH & 3           & 347751      &   21.29028  &   11.217308 &  20         &   19.84083  &   8.8956    & 0           &   165.0     &   165.0     & 1.448877    &  4.010070   & 0.01902192 \\\\\n",
       "\tSHP\\_HEIGHT & 4           & 347751      &   11.57858  &    8.310821 &  10         &   10.45260  &   7.4130    & 0           &   105.0     &   105.0     & 1.423123    &  2.942553   & 0.01409320 \\\\\n",
       "\\end{tabular}\n"
      ],
      "text/markdown": [
       "\n",
       "| <!--/--> | vars | n | mean | sd | median | trimmed | mad | min | max | range | skew | kurtosis | se | \n",
       "|---|---|---|---|\n",
       "| SHP_WEIGHT | 1           | 347751      | 1854.78958  | 3257.884009 | 675         | 1089.61017  | 763.5390    | 1           | 50000.0     | 49999.0     | 3.915336    | 20.399119   | 5.52460744  | \n",
       "| SHP_LENGTH | 2           | 347751      |   31.45115  |   18.339895 |  25         |   28.45987  |  10.3782    | 0           |   288.2     |   288.2     | 2.210774    |  7.986324   | 0.03110016  | \n",
       "| SHP_WIDTH | 3           | 347751      |   21.29028  |   11.217308 |  20         |   19.84083  |   8.8956    | 0           |   165.0     |   165.0     | 1.448877    |  4.010070   | 0.01902192  | \n",
       "| SHP_HEIGHT | 4           | 347751      |   11.57858  |    8.310821 |  10         |   10.45260  |   7.4130    | 0           |   105.0     |   105.0     | 1.423123    |  2.942553   | 0.01409320  | \n",
       "\n",
       "\n"
      ],
      "text/plain": [
       "           vars n      mean       sd          median trimmed    mad      min\n",
       "SHP_WEIGHT 1    347751 1854.78958 3257.884009 675    1089.61017 763.5390 1  \n",
       "SHP_LENGTH 2    347751   31.45115   18.339895  25      28.45987  10.3782 0  \n",
       "SHP_WIDTH  3    347751   21.29028   11.217308  20      19.84083   8.8956 0  \n",
       "SHP_HEIGHT 4    347751   11.57858    8.310821  10      10.45260   7.4130 0  \n",
       "           max     range   skew     kurtosis  se        \n",
       "SHP_WEIGHT 50000.0 49999.0 3.915336 20.399119 5.52460744\n",
       "SHP_LENGTH   288.2   288.2 2.210774  7.986324 0.03110016\n",
       "SHP_WIDTH    165.0   165.0 1.448877  4.010070 0.01902192\n",
       "SHP_HEIGHT   105.0   105.0 1.423123  2.942553 0.01409320"
      ]
     },
     "metadata": {},
     "output_type": "display_data"
    }
   ],
   "source": [
    "describeBy(df[2:5], IQR=TRUE)"
   ]
  },
  {
   "cell_type": "markdown",
   "metadata": {},
   "source": [
    "### Estadisticas descriptivas de las variables a predecir discriminando por condition y status"
   ]
  },
  {
   "cell_type": "code",
   "execution_count": 7,
   "metadata": {},
   "outputs": [
    {
     "data": {
      "text/plain": [
       "\n",
       " Descriptive statistics by group \n",
       "group: new\n",
       "           vars      n    mean      sd median trimmed    mad min     max\n",
       "SHP_WEIGHT    1 260579 1922.40 3304.07    714 1154.80 822.84   1 50000.0\n",
       "SHP_LENGTH    2 260579   31.92   19.05     25   28.74  10.38   0   288.2\n",
       "SHP_WIDTH     3 260579   21.61   11.48     20   20.13   8.90   0   165.0\n",
       "SHP_HEIGHT    4 260579   11.77    8.46     10   10.64   7.41   0   105.0\n",
       "             range skew kurtosis   se    IQR\n",
       "SHP_WEIGHT 49999.0 3.88    20.36 6.47 1790.0\n",
       "SHP_LENGTH   288.2 2.22     7.86 0.04   17.0\n",
       "SHP_WIDTH    165.0 1.44     3.96 0.02   12.6\n",
       "SHP_HEIGHT   105.0 1.39     2.81 0.02   11.0\n",
       "------------------------------------------------------------ \n",
       "group: not_specified\n",
       "           vars   n    mean      sd median trimmed    mad min   max range skew\n",
       "SHP_WEIGHT    1 356 1268.47 2717.33    400  644.36 424.76  10 21000 20990 4.56\n",
       "SHP_LENGTH    2 356   27.78   13.97     25   26.35   7.41   0   103   103 1.60\n",
       "SHP_WIDTH     3 356   19.26    9.28     19   18.62   8.90   0    57    57 0.78\n",
       "SHP_HEIGHT    4 356   10.90    7.21     10   10.26   7.41   0    42    42 1.08\n",
       "           kurtosis     se   IQR\n",
       "SHP_WEIGHT    23.72 144.02 888.5\n",
       "SHP_LENGTH     5.81   0.74  11.0\n",
       "SHP_WIDTH      1.94   0.49  13.0\n",
       "SHP_HEIGHT     1.58   0.38  10.0\n",
       "------------------------------------------------------------ \n",
       "group: used\n",
       "           vars    n    mean      sd median trimmed    mad min   max range skew\n",
       "SHP_WEIGHT    1 1023 2074.97 3743.08    580 1165.24 653.83  10 30000 29990 3.42\n",
       "SHP_LENGTH    2 1023   29.89   15.77     25   27.59   7.41   0   105   105 1.95\n",
       "SHP_WIDTH     3 1023   19.90   11.10     18   18.29  10.38   0    68    68 1.34\n",
       "SHP_HEIGHT    4 1023   11.39    8.29     10   10.28   7.41   0    52    52 1.51\n",
       "           kurtosis     se  IQR\n",
       "SHP_WEIGHT    14.26 117.03 1780\n",
       "SHP_LENGTH     5.63   0.49   15\n",
       "SHP_WIDTH      2.37   0.35   14\n",
       "SHP_HEIGHT     3.01   0.26   11"
      ]
     },
     "metadata": {},
     "output_type": "display_data"
    },
    {
     "data": {
      "text/plain": [
       "\n",
       " Descriptive statistics by group \n",
       "group: 404\n",
       "           vars     n    mean      sd median trimmed    mad min   max range\n",
       "SHP_WEIGHT    1 51426 1818.35 3276.26 661.00 1023.26 682.00   1 50000 49999\n",
       "SHP_LENGTH    2 51426   31.60   16.64  25.35   29.39   8.38   0   245   245\n",
       "SHP_WIDTH     3 51426   21.13   10.72  20.00   19.81   7.41   0   100   100\n",
       "SHP_HEIGHT    4 51426   11.67    8.03  10.00   10.61   7.41   0    80    80\n",
       "           skew kurtosis    se     IQR\n",
       "SHP_WEIGHT 3.78    17.57 14.45 1366.75\n",
       "SHP_LENGTH 1.92     6.75  0.07   17.00\n",
       "SHP_WIDTH  1.36     3.50  0.05   11.00\n",
       "SHP_HEIGHT 1.44     3.08  0.04   10.00\n",
       "------------------------------------------------------------ \n",
       "group: active\n",
       "           vars      n    mean      sd median trimmed    mad min   max range\n",
       "SHP_WEIGHT    1 161502 1890.00 3149.06    750 1173.29 870.29   1 50000 49999\n",
       "SHP_LENGTH    2 161502   31.78   18.72     25   28.76  10.38   0   275   275\n",
       "SHP_WIDTH     3 161502   21.68   11.29     20   20.31   8.90   0   115   115\n",
       "SHP_HEIGHT    4 161502   11.76    8.34     10   10.67   7.41   0   105   105\n",
       "           skew kurtosis   se     IQR\n",
       "SHP_WEIGHT 3.94    21.77 7.84 1800.00\n",
       "SHP_LENGTH 2.30     8.85 0.05   17.00\n",
       "SHP_WIDTH  1.42     4.23 0.03   12.08\n",
       "SHP_HEIGHT 1.31     2.39 0.02   11.00\n",
       "------------------------------------------------------------ \n",
       "group: closed\n",
       "           vars     n    mean      sd median trimmed    mad min   max range\n",
       "SHP_WEIGHT    1 18442 2208.93 3877.65    702 1267.73 827.29   1 42900 42899\n",
       "SHP_LENGTH    2 18442   34.00   21.89     25   30.04  13.34   0   203   203\n",
       "SHP_WIDTH     3 18442   22.16   13.17     20   20.17  11.86   0    95    95\n",
       "SHP_HEIGHT    4 18442   11.97    9.06     10   10.68   7.41   0    63    63\n",
       "           skew kurtosis    se     IQR\n",
       "SHP_WEIGHT 3.43    14.63 28.55 1982.25\n",
       "SHP_LENGTH 1.76     3.57  0.16   20.00\n",
       "SHP_WIDTH  1.60     3.61  0.10   14.00\n",
       "SHP_HEIGHT 1.49     2.94  0.07   11.00\n",
       "------------------------------------------------------------ \n",
       "group: inactive\n",
       "           vars    n    mean      sd median trimmed    mad min   max range skew\n",
       "SHP_WEIGHT    1 3026 1329.11 2422.12    600  766.62 628.62  10 21100 21090 4.32\n",
       "SHP_LENGTH    2 3026   27.83   14.13     25   25.74   7.41   0   137   137 2.11\n",
       "SHP_WIDTH     3 3026   19.27    9.10     18   18.33  10.38   0    82    82 1.49\n",
       "SHP_HEIGHT    4 3026    9.95    6.88      9    9.04   5.93   0    51    51 1.57\n",
       "           kurtosis    se    IQR\n",
       "SHP_WEIGHT    22.76 44.03 992.25\n",
       "SHP_LENGTH     7.61  0.26  10.00\n",
       "SHP_WIDTH      5.41  0.17  13.00\n",
       "SHP_HEIGHT     3.82  0.13  10.00\n",
       "------------------------------------------------------------ \n",
       "group: paused\n",
       "           vars     n    mean      sd median trimmed    mad min     max   range\n",
       "SHP_WEIGHT    1 82196 1919.33 3458.07    622 1094.14 708.68   1 50000.0 49999.0\n",
       "SHP_LENGTH    2 82196   31.68   18.91     25   28.44  10.38   0   288.2   288.2\n",
       "SHP_WIDTH     3 82196   21.32   11.44     19   19.75  10.38   0   165.0   165.0\n",
       "SHP_HEIGHT    4 82196   11.75    8.55     10   10.55   7.41   0   100.0   100.0\n",
       "           skew kurtosis    se  IQR\n",
       "SHP_WEIGHT 3.84    19.22 12.06 1690\n",
       "SHP_LENGTH 2.18     7.43  0.07   17\n",
       "SHP_WIDTH  1.41     3.38  0.04   13\n",
       "SHP_HEIGHT 1.50     3.47  0.03   11\n",
       "------------------------------------------------------------ \n",
       "group: under_review\n",
       "           vars     n    mean      sd median trimmed    mad min   max range\n",
       "SHP_WEIGHT    1 31159 1403.61 2829.14    500  735.35 518.91   6 50000 49994\n",
       "SHP_LENGTH    2 31159   27.74   14.63     25   25.46   7.41   0   115   115\n",
       "SHP_WIDTH     3 31159   19.14    9.60     16   17.91   7.41   0    92    92\n",
       "SHP_HEIGHT    4 31159    9.97    7.40      7    8.92   4.45   0    61    61\n",
       "           skew kurtosis    se IQR\n",
       "SHP_WEIGHT 4.56    26.68 16.03 950\n",
       "SHP_LENGTH 2.14     6.92  0.08  11\n",
       "SHP_WIDTH  1.52     4.41  0.05  14\n",
       "SHP_HEIGHT 1.64     3.92  0.04  10"
      ]
     },
     "metadata": {},
     "output_type": "display_data"
    }
   ],
   "source": [
    "describeBy(df[2:5],df$CONDITION ,IQR=TRUE)\n",
    "describeBy(df[2:5],df$STATUS ,IQR=TRUE)"
   ]
  },
  {
   "cell_type": "markdown",
   "metadata": {},
   "source": [
    "### Analisis univariado de SHP_WEIGHT"
   ]
  },
  {
   "cell_type": "code",
   "execution_count": 12,
   "metadata": {},
   "outputs": [
    {
     "name": "stderr",
     "output_type": "stream",
     "text": [
      "Warning message in describeBy(df$SHP_WEIGHT, IQR = TRUE):\n",
      "\"no grouping variable requested\""
     ]
    },
    {
     "data": {
      "text/html": [
       "<table>\n",
       "<thead><tr><th></th><th scope=col>vars</th><th scope=col>n</th><th scope=col>mean</th><th scope=col>sd</th><th scope=col>median</th><th scope=col>trimmed</th><th scope=col>mad</th><th scope=col>min</th><th scope=col>max</th><th scope=col>range</th><th scope=col>skew</th><th scope=col>kurtosis</th><th scope=col>se</th></tr></thead>\n",
       "<tbody>\n",
       "\t<tr><th scope=row>X1</th><td>1       </td><td>347751  </td><td>1854.79 </td><td>3257.884</td><td>675     </td><td>1089.61 </td><td>763.539 </td><td>1       </td><td>50000   </td><td>49999   </td><td>3.915336</td><td>20.39912</td><td>5.524607</td></tr>\n",
       "</tbody>\n",
       "</table>\n"
      ],
      "text/latex": [
       "\\begin{tabular}{r|lllllllllllll}\n",
       "  & vars & n & mean & sd & median & trimmed & mad & min & max & range & skew & kurtosis & se\\\\\n",
       "\\hline\n",
       "\tX1 & 1        & 347751   & 1854.79  & 3257.884 & 675      & 1089.61  & 763.539  & 1        & 50000    & 49999    & 3.915336 & 20.39912 & 5.524607\\\\\n",
       "\\end{tabular}\n"
      ],
      "text/markdown": [
       "\n",
       "| <!--/--> | vars | n | mean | sd | median | trimmed | mad | min | max | range | skew | kurtosis | se | \n",
       "|---|\n",
       "| X1 | 1        | 347751   | 1854.79  | 3257.884 | 675      | 1089.61  | 763.539  | 1        | 50000    | 49999    | 3.915336 | 20.39912 | 5.524607 | \n",
       "\n",
       "\n"
      ],
      "text/plain": [
       "   vars n      mean    sd       median trimmed mad     min max   range skew    \n",
       "X1 1    347751 1854.79 3257.884 675    1089.61 763.539 1   50000 49999 3.915336\n",
       "   kurtosis se      \n",
       "X1 20.39912 5.524607"
      ]
     },
     "metadata": {},
     "output_type": "display_data"
    },
    {
     "name": "stderr",
     "output_type": "stream",
     "text": [
      "`stat_bin()` using `bins = 30`. Pick better value with `binwidth`.\n"
     ]
    },
    {
     "data": {},
     "metadata": {},
     "output_type": "display_data"
    },
    {
     "data": {},
     "metadata": {},
     "output_type": "display_data"
    },
    {
     "data": {
      "image/png": "[encoded data removed]",
      "text/plain": [
       "plot without title"
      ]
     },
     "metadata": {},
     "output_type": "display_data"
    },
    {
     "data": {},
     "metadata": {},
     "output_type": "display_data"
    },
    {
     "data": {
      "image/png": "[encoded data removed]",
      "text/plain": [
       "plot without title"
      ]
     },
     "metadata": {},
     "output_type": "display_data"
    },
    {
     "data": {
      "image/png": "[encoded data removed]",
      "text/plain": [
       "plot without title"
      ]
     },
     "metadata": {},
     "output_type": "display_data"
    }
   ],
   "source": [
    "describeBy(df$SHP_WEIGHT , IQR=TRUE)\n",
    "\n",
    "ggplot(df, aes(SHP_WEIGHT))+\n",
    "  geom_histogram(fill = \"tomato\")\n",
    "\n",
    "ggplot(df, aes(x=\"SHP_WEIGHT\", SHP_WEIGHT))+\n",
    "  geom_boxplot(aes(fill = \"SHP_WEIGHT\"))\n",
    "\n",
    "ggplot(df, aes(SHP_WEIGHT)) + \n",
    "geom_density( fill = \"tomato\", alpha=0.6)\n"
   ]
  },
  {
   "cell_type": "markdown",
   "metadata": {},
   "source": [
    "### Analisis univariado de SHP_WEIGHT discriminando por CONDITION\n"
   ]
  },
  {
   "cell_type": "code",
   "execution_count": 14,
   "metadata": {},
   "outputs": [
    {
     "data": {
      "text/plain": [
       "\n",
       " Descriptive statistics by group \n",
       "group: new\n",
       "   vars      n   mean      sd median trimmed    mad min   max range skew\n",
       "X1    1 260579 1922.4 3304.07    714  1154.8 822.84   1 50000 49999 3.88\n",
       "   kurtosis   se  IQR\n",
       "X1    20.36 6.47 1790\n",
       "------------------------------------------------------------ \n",
       "group: not_specified\n",
       "   vars   n    mean      sd median trimmed    mad min   max range skew kurtosis\n",
       "X1    1 356 1268.47 2717.33    400  644.36 424.76  10 21000 20990 4.56    23.72\n",
       "       se   IQR\n",
       "X1 144.02 888.5\n",
       "------------------------------------------------------------ \n",
       "group: used\n",
       "   vars    n    mean      sd median trimmed    mad min   max range skew\n",
       "X1    1 1023 2074.97 3743.08    580 1165.24 653.83  10 30000 29990 3.42\n",
       "   kurtosis     se  IQR\n",
       "X1    14.26 117.03 1780"
      ]
     },
     "metadata": {},
     "output_type": "display_data"
    },
    {
     "data": {},
     "metadata": {},
     "output_type": "display_data"
    },
    {
     "data": {},
     "metadata": {},
     "output_type": "display_data"
    },
    {
     "data": {
      "image/png": "[encoded data removed]",
      "text/plain": [
       "plot without title"
      ]
     },
     "metadata": {},
     "output_type": "display_data"
    },
    {
     "data": {
      "image/png": "[encoded data removed]",
      "text/plain": [
       "plot without title"
      ]
     },
     "metadata": {},
     "output_type": "display_data"
    }
   ],
   "source": [
    "describeBy(df$SHP_WEIGHT ,df$CONDITION ,IQR=TRUE)\n",
    "\n",
    "ggplot(df, aes(CONDITION, SHP_WEIGHT))+\n",
    "  geom_boxplot(aes(fill=CONDITION))\n",
    "\n",
    "ggplot(df, aes(SHP_WEIGHT )) + \n",
    "geom_density( aes(fill = CONDITION), alpha=0.3)\n"
   ]
  },
  {
   "cell_type": "markdown",
   "metadata": {},
   "source": [
    "### Analisis univariado de SHP_WEIGHT discriminando por STATUS"
   ]
  },
  {
   "cell_type": "code",
   "execution_count": 15,
   "metadata": {},
   "outputs": [
    {
     "data": {
      "text/plain": [
       "\n",
       " Descriptive statistics by group \n",
       "group: 404\n",
       "   vars     n    mean      sd median trimmed mad min   max range skew kurtosis\n",
       "X1    1 51426 1818.35 3276.26    661 1023.26 682   1 50000 49999 3.78    17.57\n",
       "      se     IQR\n",
       "X1 14.45 1366.75\n",
       "------------------------------------------------------------ \n",
       "group: active\n",
       "   vars      n mean      sd median trimmed    mad min   max range skew kurtosis\n",
       "X1    1 161502 1890 3149.06    750 1173.29 870.29   1 50000 49999 3.94    21.77\n",
       "     se  IQR\n",
       "X1 7.84 1800\n",
       "------------------------------------------------------------ \n",
       "group: closed\n",
       "   vars     n    mean      sd median trimmed    mad min   max range skew\n",
       "X1    1 18442 2208.93 3877.65    702 1267.73 827.29   1 42900 42899 3.43\n",
       "   kurtosis    se     IQR\n",
       "X1    14.63 28.55 1982.25\n",
       "------------------------------------------------------------ \n",
       "group: inactive\n",
       "   vars    n    mean      sd median trimmed    mad min   max range skew\n",
       "X1    1 3026 1329.11 2422.12    600  766.62 628.62  10 21100 21090 4.32\n",
       "   kurtosis    se    IQR\n",
       "X1    22.76 44.03 992.25\n",
       "------------------------------------------------------------ \n",
       "group: paused\n",
       "   vars     n    mean      sd median trimmed    mad min   max range skew\n",
       "X1    1 82196 1919.33 3458.07    622 1094.14 708.68   1 50000 49999 3.84\n",
       "   kurtosis    se  IQR\n",
       "X1    19.22 12.06 1690\n",
       "------------------------------------------------------------ \n",
       "group: under_review\n",
       "   vars     n    mean      sd median trimmed    mad min   max range skew\n",
       "X1    1 31159 1403.61 2829.14    500  735.35 518.91   6 50000 49994 4.56\n",
       "   kurtosis    se IQR\n",
       "X1    26.68 16.03 950"
      ]
     },
     "metadata": {},
     "output_type": "display_data"
    },
    {
     "data": {},
     "metadata": {},
     "output_type": "display_data"
    },
    {
     "data": {},
     "metadata": {},
     "output_type": "display_data"
    },
    {
     "data": {
      "image/png": "[encoded data removed]",
      "text/plain": [
       "plot without title"
      ]
     },
     "metadata": {},
     "output_type": "display_data"
    },
    {
     "data": {
      "image/png": "[encoded data removed]",
      "text/plain": [
       "plot without title"
      ]
     },
     "metadata": {},
     "output_type": "display_data"
    }
   ],
   "source": [
    "describeBy(df$SHP_WEIGHT ,df$STATUS ,IQR=TRUE)\n",
    "\n",
    "ggplot(df, aes(STATUS, SHP_WEIGHT))+\n",
    "  geom_boxplot(aes(fill=STATUS))\n",
    "\n",
    "ggplot(df, aes(SHP_WEIGHT )) + \n",
    "  geom_density( aes(fill = STATUS), alpha=0.3)"
   ]
  },
  {
   "cell_type": "markdown",
   "metadata": {},
   "source": [
    "### Analisis univariado de SHP_LENGTH"
   ]
  },
  {
   "cell_type": "code",
   "execution_count": 16,
   "metadata": {},
   "outputs": [
    {
     "name": "stderr",
     "output_type": "stream",
     "text": [
      "Warning message in describeBy(df$SHP_LENGTH, IQR = TRUE):\n",
      "\"no grouping variable requested\""
     ]
    },
    {
     "data": {
      "text/html": [
       "<table>\n",
       "<thead><tr><th></th><th scope=col>vars</th><th scope=col>n</th><th scope=col>mean</th><th scope=col>sd</th><th scope=col>median</th><th scope=col>trimmed</th><th scope=col>mad</th><th scope=col>min</th><th scope=col>max</th><th scope=col>range</th><th scope=col>skew</th><th scope=col>kurtosis</th><th scope=col>se</th></tr></thead>\n",
       "<tbody>\n",
       "\t<tr><th scope=row>X1</th><td>1         </td><td>347751    </td><td>31.45115  </td><td>18.33989  </td><td>25        </td><td>28.45987  </td><td>10.3782   </td><td>0         </td><td>288.2     </td><td>288.2     </td><td>2.210774  </td><td>7.986324  </td><td>0.03110016</td></tr>\n",
       "</tbody>\n",
       "</table>\n"
      ],
      "text/latex": [
       "\\begin{tabular}{r|lllllllllllll}\n",
       "  & vars & n & mean & sd & median & trimmed & mad & min & max & range & skew & kurtosis & se\\\\\n",
       "\\hline\n",
       "\tX1 & 1          & 347751     & 31.45115   & 18.33989   & 25         & 28.45987   & 10.3782    & 0          & 288.2      & 288.2      & 2.210774   & 7.986324   & 0.03110016\\\\\n",
       "\\end{tabular}\n"
      ],
      "text/markdown": [
       "\n",
       "| <!--/--> | vars | n | mean | sd | median | trimmed | mad | min | max | range | skew | kurtosis | se | \n",
       "|---|\n",
       "| X1 | 1          | 347751     | 31.45115   | 18.33989   | 25         | 28.45987   | 10.3782    | 0          | 288.2      | 288.2      | 2.210774   | 7.986324   | 0.03110016 | \n",
       "\n",
       "\n"
      ],
      "text/plain": [
       "   vars n      mean     sd       median trimmed  mad     min max   range\n",
       "X1 1    347751 31.45115 18.33989 25     28.45987 10.3782 0   288.2 288.2\n",
       "   skew     kurtosis se        \n",
       "X1 2.210774 7.986324 0.03110016"
      ]
     },
     "metadata": {},
     "output_type": "display_data"
    },
    {
     "name": "stderr",
     "output_type": "stream",
     "text": [
      "`stat_bin()` using `bins = 30`. Pick better value with `binwidth`.\n"
     ]
    },
    {
     "data": {},
     "metadata": {},
     "output_type": "display_data"
    },
    {
     "data": {},
     "metadata": {},
     "output_type": "display_data"
    },
    {
     "data": {
      "image/png": "[encoded data removed]",
      "text/plain": [
       "plot without title"
      ]
     },
     "metadata": {},
     "output_type": "display_data"
    },
    {
     "data": {},
     "metadata": {},
     "output_type": "display_data"
    },
    {
     "data": {
      "image/png": "[encoded data removed]",
      "text/plain": [
       "plot without title"
      ]
     },
     "metadata": {},
     "output_type": "display_data"
    },
    {
     "data": {
      "image/png": "[encoded data removed]",
      "text/plain": [
       "plot without title"
      ]
     },
     "metadata": {},
     "output_type": "display_data"
    }
   ],
   "source": [
    "describeBy(df$SHP_LENGTH , IQR=TRUE)\n",
    "\n",
    "ggplot(df, aes(SHP_LENGTH))+\n",
    "  geom_histogram(fill = \"tomato\")\n",
    "\n",
    "ggplot(df, aes(x=\"SHP_LENGTH\", SHP_LENGTH))+\n",
    "  geom_boxplot(aes(fill = \"SHP_LENGTH\"))\n",
    "\n",
    "ggplot(df, aes(SHP_LENGTH)) + \n",
    "  geom_density( fill = \"tomato\", alpha=0.6)"
   ]
  },
  {
   "cell_type": "markdown",
   "metadata": {},
   "source": [
    "### Analisis univariado de SHP_LENGTH discriminando por CONDITION"
   ]
  },
  {
   "cell_type": "code",
   "execution_count": 17,
   "metadata": {},
   "outputs": [
    {
     "data": {
      "text/plain": [
       "\n",
       " Descriptive statistics by group \n",
       "group: new\n",
       "   vars      n  mean    sd median trimmed   mad min   max range skew kurtosis\n",
       "X1    1 260579 31.92 19.05     25   28.74 10.38   0 288.2 288.2 2.22     7.86\n",
       "     se IQR\n",
       "X1 0.04  17\n",
       "------------------------------------------------------------ \n",
       "group: not_specified\n",
       "   vars   n  mean    sd median trimmed  mad min max range skew kurtosis   se\n",
       "X1    1 356 27.78 13.97     25   26.35 7.41   0 103   103  1.6     5.81 0.74\n",
       "   IQR\n",
       "X1  11\n",
       "------------------------------------------------------------ \n",
       "group: used\n",
       "   vars    n  mean    sd median trimmed  mad min max range skew kurtosis   se\n",
       "X1    1 1023 29.89 15.77     25   27.59 7.41   0 105   105 1.95     5.63 0.49\n",
       "   IQR\n",
       "X1  15"
      ]
     },
     "metadata": {},
     "output_type": "display_data"
    },
    {
     "data": {},
     "metadata": {},
     "output_type": "display_data"
    },
    {
     "data": {},
     "metadata": {},
     "output_type": "display_data"
    },
    {
     "data": {
      "image/png": "[encoded data removed]",
      "text/plain": [
       "plot without title"
      ]
     },
     "metadata": {},
     "output_type": "display_data"
    },
    {
     "data": {
      "image/png": "[encoded data removed]",
      "text/plain": [
       "plot without title"
      ]
     },
     "metadata": {},
     "output_type": "display_data"
    }
   ],
   "source": [
    "describeBy(df$SHP_LENGTH,df$CONDITION ,IQR=TRUE)\n",
    "\n",
    "ggplot(df, aes(CONDITION, SHP_LENGTH))+\n",
    "  geom_boxplot(aes(fill=CONDITION))\n",
    "\n",
    "ggplot(df, aes(SHP_LENGTH )) + \n",
    "  geom_density( aes(fill = CONDITION), alpha=0.3)\n"
   ]
  },
  {
   "cell_type": "markdown",
   "metadata": {},
   "source": [
    "### Analisis univariado de SHP_LENGTH discriminando por STATUS"
   ]
  },
  {
   "cell_type": "code",
   "execution_count": 18,
   "metadata": {},
   "outputs": [
    {
     "data": {
      "text/plain": [
       "\n",
       " Descriptive statistics by group \n",
       "group: 404\n",
       "   vars     n mean    sd median trimmed  mad min max range skew kurtosis   se\n",
       "X1    1 51426 31.6 16.64  25.35   29.39 8.38   0 245   245 1.92     6.75 0.07\n",
       "   IQR\n",
       "X1  17\n",
       "------------------------------------------------------------ \n",
       "group: active\n",
       "   vars      n  mean    sd median trimmed   mad min max range skew kurtosis\n",
       "X1    1 161502 31.78 18.72     25   28.76 10.38   0 275   275  2.3     8.85\n",
       "     se IQR\n",
       "X1 0.05  17\n",
       "------------------------------------------------------------ \n",
       "group: closed\n",
       "   vars     n mean    sd median trimmed   mad min max range skew kurtosis   se\n",
       "X1    1 18442   34 21.89     25   30.04 13.34   0 203   203 1.76     3.57 0.16\n",
       "   IQR\n",
       "X1  20\n",
       "------------------------------------------------------------ \n",
       "group: inactive\n",
       "   vars    n  mean    sd median trimmed  mad min max range skew kurtosis   se\n",
       "X1    1 3026 27.83 14.13     25   25.74 7.41   0 137   137 2.11     7.61 0.26\n",
       "   IQR\n",
       "X1  10\n",
       "------------------------------------------------------------ \n",
       "group: paused\n",
       "   vars     n  mean    sd median trimmed   mad min   max range skew kurtosis\n",
       "X1    1 82196 31.68 18.91     25   28.44 10.38   0 288.2 288.2 2.18     7.43\n",
       "     se IQR\n",
       "X1 0.07  17\n",
       "------------------------------------------------------------ \n",
       "group: under_review\n",
       "   vars     n  mean    sd median trimmed  mad min max range skew kurtosis   se\n",
       "X1    1 31159 27.74 14.63     25   25.46 7.41   0 115   115 2.14     6.92 0.08\n",
       "   IQR\n",
       "X1  11"
      ]
     },
     "metadata": {},
     "output_type": "display_data"
    },
    {
     "data": {},
     "metadata": {},
     "output_type": "display_data"
    },
    {
     "data": {},
     "metadata": {},
     "output_type": "display_data"
    },
    {
     "data": {
      "image/png": "[encoded data removed]",
      "text/plain": [
       "plot without title"
      ]
     },
     "metadata": {},
     "output_type": "display_data"
    },
    {
     "data": {
      "image/png": "[encoded data removed]",
      "text/plain": [
       "plot without title"
      ]
     },
     "metadata": {},
     "output_type": "display_data"
    }
   ],
   "source": [
    "describeBy(df$SHP_LENGTH,df$STATUS ,IQR=TRUE)\n",
    "\n",
    "ggplot(df, aes(STATUS, SHP_LENGTH))+\n",
    "  geom_boxplot(aes(fill=STATUS)) \n",
    "\n",
    "ggplot(df, aes(SHP_LENGTH )) + \n",
    "  geom_density( aes(fill = STATUS), alpha=0.3)"
   ]
  },
  {
   "cell_type": "markdown",
   "metadata": {},
   "source": [
    "### Analisis univariado de SHP_WIDTH"
   ]
  },
  {
   "cell_type": "code",
   "execution_count": 19,
   "metadata": {
    "scrolled": true
   },
   "outputs": [
    {
     "name": "stderr",
     "output_type": "stream",
     "text": [
      "Warning message in describeBy(df$SHP_WIDTH, IQR = TRUE):\n",
      "\"no grouping variable requested\""
     ]
    },
    {
     "data": {
      "text/html": [
       "<table>\n",
       "<thead><tr><th></th><th scope=col>vars</th><th scope=col>n</th><th scope=col>mean</th><th scope=col>sd</th><th scope=col>median</th><th scope=col>trimmed</th><th scope=col>mad</th><th scope=col>min</th><th scope=col>max</th><th scope=col>range</th><th scope=col>skew</th><th scope=col>kurtosis</th><th scope=col>se</th></tr></thead>\n",
       "<tbody>\n",
       "\t<tr><th scope=row>X1</th><td>1         </td><td>347751    </td><td>21.29028  </td><td>11.21731  </td><td>20        </td><td>19.84083  </td><td>8.8956    </td><td>0         </td><td>165       </td><td>165       </td><td>1.448877  </td><td>4.01007   </td><td>0.01902192</td></tr>\n",
       "</tbody>\n",
       "</table>\n"
      ],
      "text/latex": [
       "\\begin{tabular}{r|lllllllllllll}\n",
       "  & vars & n & mean & sd & median & trimmed & mad & min & max & range & skew & kurtosis & se\\\\\n",
       "\\hline\n",
       "\tX1 & 1          & 347751     & 21.29028   & 11.21731   & 20         & 19.84083   & 8.8956     & 0          & 165        & 165        & 1.448877   & 4.01007    & 0.01902192\\\\\n",
       "\\end{tabular}\n"
      ],
      "text/markdown": [
       "\n",
       "| <!--/--> | vars | n | mean | sd | median | trimmed | mad | min | max | range | skew | kurtosis | se | \n",
       "|---|\n",
       "| X1 | 1          | 347751     | 21.29028   | 11.21731   | 20         | 19.84083   | 8.8956     | 0          | 165        | 165        | 1.448877   | 4.01007    | 0.01902192 | \n",
       "\n",
       "\n"
      ],
      "text/plain": [
       "   vars n      mean     sd       median trimmed  mad    min max range skew    \n",
       "X1 1    347751 21.29028 11.21731 20     19.84083 8.8956 0   165 165   1.448877\n",
       "   kurtosis se        \n",
       "X1 4.01007  0.01902192"
      ]
     },
     "metadata": {},
     "output_type": "display_data"
    },
    {
     "name": "stderr",
     "output_type": "stream",
     "text": [
      "`stat_bin()` using `bins = 30`. Pick better value with `binwidth`.\n"
     ]
    },
    {
     "data": {},
     "metadata": {},
     "output_type": "display_data"
    },
    {
     "data": {},
     "metadata": {},
     "output_type": "display_data"
    },
    {
     "data": {
      "image/png": "[encoded data removed]",
      "text/plain": [
       "plot without title"
      ]
     },
     "metadata": {},
     "output_type": "display_data"
    },
    {
     "data": {},
     "metadata": {},
     "output_type": "display_data"
    },
    {
     "data": {
      "image/png": "[encoded data removed]",
      "text/plain": [
       "plot without title"
      ]
     },
     "metadata": {},
     "output_type": "display_data"
    },
    {
     "data": {
      "image/png": "[encoded data removed]",
      "text/plain": [
       "plot without title"
      ]
     },
     "metadata": {},
     "output_type": "display_data"
    }
   ],
   "source": [
    "describeBy(df$SHP_WIDTH , IQR=TRUE)\n",
    "\n",
    "ggplot(df, aes(SHP_WIDTH))+\n",
    "  geom_histogram(fill = \"tomato\")\n",
    "\n",
    "ggplot(df, aes(x=\"SHP_WIDTH\", SHP_WIDTH))+\n",
    "  geom_boxplot(aes(fill = \"SHP_WIDTH\"))\n",
    "\n",
    "ggplot(df, aes(SHP_WIDTH)) + \n",
    "  geom_density( fill = \"tomato\", alpha=0.6)"
   ]
  },
  {
   "cell_type": "markdown",
   "metadata": {},
   "source": [
    "### Analisis univariado de SHP_WIDTH discriminando por CONDITION"
   ]
  },
  {
   "cell_type": "code",
   "execution_count": 20,
   "metadata": {},
   "outputs": [
    {
     "data": {
      "text/plain": [
       "\n",
       " Descriptive statistics by group \n",
       "group: new\n",
       "   vars      n  mean    sd median trimmed mad min max range skew kurtosis   se\n",
       "X1    1 260579 21.61 11.48     20   20.13 8.9   0 165   165 1.44     3.96 0.02\n",
       "    IQR\n",
       "X1 12.6\n",
       "------------------------------------------------------------ \n",
       "group: not_specified\n",
       "   vars   n  mean   sd median trimmed mad min max range skew kurtosis   se IQR\n",
       "X1    1 356 19.26 9.28     19   18.62 8.9   0  57    57 0.78     1.94 0.49  13\n",
       "------------------------------------------------------------ \n",
       "group: used\n",
       "   vars    n mean   sd median trimmed   mad min max range skew kurtosis   se\n",
       "X1    1 1023 19.9 11.1     18   18.29 10.38   0  68    68 1.34     2.37 0.35\n",
       "   IQR\n",
       "X1  14"
      ]
     },
     "metadata": {},
     "output_type": "display_data"
    },
    {
     "data": {},
     "metadata": {},
     "output_type": "display_data"
    },
    {
     "data": {},
     "metadata": {},
     "output_type": "display_data"
    },
    {
     "data": {
      "image/png": "[encoded data removed]",
      "text/plain": [
       "plot without title"
      ]
     },
     "metadata": {},
     "output_type": "display_data"
    },
    {
     "data": {
      "image/png": "[encoded data removed]",
      "text/plain": [
       "plot without title"
      ]
     },
     "metadata": {},
     "output_type": "display_data"
    }
   ],
   "source": [
    "describeBy(df$SHP_WIDTH,df$CONDITION ,IQR=TRUE)\n",
    "\n",
    "ggplot(df, aes(CONDITION, SHP_WIDTH))+\n",
    "  geom_boxplot(aes(fill=CONDITION))\n",
    "\n",
    "ggplot(df, aes(SHP_WIDTH )) + \n",
    "  geom_density( aes(fill = CONDITION), alpha=0.3)"
   ]
  },
  {
   "cell_type": "markdown",
   "metadata": {},
   "source": [
    "### Analisis univariado de SHP_WIDTH discriminando por STATUS"
   ]
  },
  {
   "cell_type": "code",
   "execution_count": 21,
   "metadata": {},
   "outputs": [
    {
     "data": {
      "text/plain": [
       "\n",
       " Descriptive statistics by group \n",
       "group: 404\n",
       "   vars     n  mean    sd median trimmed  mad min max range skew kurtosis   se\n",
       "X1    1 51426 21.13 10.72     20   19.81 7.41   0 100   100 1.36      3.5 0.05\n",
       "   IQR\n",
       "X1  11\n",
       "------------------------------------------------------------ \n",
       "group: active\n",
       "   vars      n  mean    sd median trimmed mad min max range skew kurtosis   se\n",
       "X1    1 161502 21.68 11.29     20   20.31 8.9   0 115   115 1.42     4.23 0.03\n",
       "     IQR\n",
       "X1 12.08\n",
       "------------------------------------------------------------ \n",
       "group: closed\n",
       "   vars     n  mean    sd median trimmed   mad min max range skew kurtosis  se\n",
       "X1    1 18442 22.16 13.17     20   20.17 11.86   0  95    95  1.6     3.61 0.1\n",
       "   IQR\n",
       "X1  14\n",
       "------------------------------------------------------------ \n",
       "group: inactive\n",
       "   vars    n  mean  sd median trimmed   mad min max range skew kurtosis   se\n",
       "X1    1 3026 19.27 9.1     18   18.33 10.38   0  82    82 1.49     5.41 0.17\n",
       "   IQR\n",
       "X1  13\n",
       "------------------------------------------------------------ \n",
       "group: paused\n",
       "   vars     n  mean    sd median trimmed   mad min max range skew kurtosis   se\n",
       "X1    1 82196 21.32 11.44     19   19.75 10.38   0 165   165 1.41     3.38 0.04\n",
       "   IQR\n",
       "X1  13\n",
       "------------------------------------------------------------ \n",
       "group: under_review\n",
       "   vars     n  mean  sd median trimmed  mad min max range skew kurtosis   se\n",
       "X1    1 31159 19.14 9.6     16   17.91 7.41   0  92    92 1.52     4.41 0.05\n",
       "   IQR\n",
       "X1  14"
      ]
     },
     "metadata": {},
     "output_type": "display_data"
    },
    {
     "data": {},
     "metadata": {},
     "output_type": "display_data"
    },
    {
     "data": {},
     "metadata": {},
     "output_type": "display_data"
    },
    {
     "data": {
      "image/png": "[encoded data removed]",
      "text/plain": [
       "plot without title"
      ]
     },
     "metadata": {},
     "output_type": "display_data"
    },
    {
     "data": {
      "image/png": "[encoded data removed]",
      "text/plain": [
       "plot without title"
      ]
     },
     "metadata": {},
     "output_type": "display_data"
    }
   ],
   "source": [
    "describeBy(df$SHP_WIDTH,df$STATUS ,IQR=TRUE)\n",
    "\n",
    "ggplot(df, aes(STATUS, SHP_WIDTH))+\n",
    "  geom_boxplot(aes(fill=STATUS))\n",
    "\n",
    "ggplot(df, aes(SHP_WIDTH )) + \n",
    "  geom_density( aes(fill = STATUS), alpha=0.3)"
   ]
  },
  {
   "cell_type": "markdown",
   "metadata": {},
   "source": [
    "### Analisis univariado de SHP_HEIGHT"
   ]
  },
  {
   "cell_type": "code",
   "execution_count": 22,
   "metadata": {},
   "outputs": [
    {
     "name": "stderr",
     "output_type": "stream",
     "text": [
      "Warning message in describeBy(df$SHP_HEIGHT, IQR = TRUE):\n",
      "\"no grouping variable requested\""
     ]
    },
    {
     "data": {
      "text/html": [
       "<table>\n",
       "<thead><tr><th></th><th scope=col>vars</th><th scope=col>n</th><th scope=col>mean</th><th scope=col>sd</th><th scope=col>median</th><th scope=col>trimmed</th><th scope=col>mad</th><th scope=col>min</th><th scope=col>max</th><th scope=col>range</th><th scope=col>skew</th><th scope=col>kurtosis</th><th scope=col>se</th></tr></thead>\n",
       "<tbody>\n",
       "\t<tr><th scope=row>X1</th><td>1        </td><td>347751   </td><td>11.57858 </td><td>8.310821 </td><td>10       </td><td>10.4526  </td><td>7.413    </td><td>0        </td><td>105      </td><td>105      </td><td>1.423123 </td><td>2.942553 </td><td>0.0140932</td></tr>\n",
       "</tbody>\n",
       "</table>\n"
      ],
      "text/latex": [
       "\\begin{tabular}{r|lllllllllllll}\n",
       "  & vars & n & mean & sd & median & trimmed & mad & min & max & range & skew & kurtosis & se\\\\\n",
       "\\hline\n",
       "\tX1 & 1         & 347751    & 11.57858  & 8.310821  & 10        & 10.4526   & 7.413     & 0         & 105       & 105       & 1.423123  & 2.942553  & 0.0140932\\\\\n",
       "\\end{tabular}\n"
      ],
      "text/markdown": [
       "\n",
       "| <!--/--> | vars | n | mean | sd | median | trimmed | mad | min | max | range | skew | kurtosis | se | \n",
       "|---|\n",
       "| X1 | 1         | 347751    | 11.57858  | 8.310821  | 10        | 10.4526   | 7.413     | 0         | 105       | 105       | 1.423123  | 2.942553  | 0.0140932 | \n",
       "\n",
       "\n"
      ],
      "text/plain": [
       "   vars n      mean     sd       median trimmed mad   min max range skew    \n",
       "X1 1    347751 11.57858 8.310821 10     10.4526 7.413 0   105 105   1.423123\n",
       "   kurtosis se       \n",
       "X1 2.942553 0.0140932"
      ]
     },
     "metadata": {},
     "output_type": "display_data"
    },
    {
     "name": "stderr",
     "output_type": "stream",
     "text": [
      "`stat_bin()` using `bins = 30`. Pick better value with `binwidth`.\n"
     ]
    },
    {
     "data": {},
     "metadata": {},
     "output_type": "display_data"
    },
    {
     "data": {},
     "metadata": {},
     "output_type": "display_data"
    },
    {
     "data": {
      "image/png": "[encoded data removed]",
      "text/plain": [
       "plot without title"
      ]
     },
     "metadata": {},
     "output_type": "display_data"
    },
    {
     "data": {},
     "metadata": {},
     "output_type": "display_data"
    },
    {
     "data": {
      "image/png": "[encoded data removed]",
      "text/plain": [
       "plot without title"
      ]
     },
     "metadata": {},
     "output_type": "display_data"
    },
    {
     "data": {
      "image/png": "[encoded data removed]",
      "text/plain": [
       "plot without title"
      ]
     },
     "metadata": {},
     "output_type": "display_data"
    }
   ],
   "source": [
    "describeBy(df$SHP_HEIGHT , IQR=TRUE)\n",
    "\n",
    "ggplot(df, aes(SHP_HEIGHT))+\n",
    "  geom_histogram(fill = \"tomato\")\n",
    "\n",
    "ggplot(df, aes(x=\"SHP_HEIGHT\", SHP_HEIGHT))+\n",
    "  geom_boxplot(aes(fill = \"SHP_HEIGHT\"))\n",
    "\n",
    "ggplot(df, aes(SHP_HEIGHT)) + \n",
    "  geom_density( fill = \"tomato\", alpha=0.6)"
   ]
  },
  {
   "cell_type": "markdown",
   "metadata": {},
   "source": [
    "### Analisis univariado de SHP_HEIGHT discriminando por CONDITION"
   ]
  },
  {
   "cell_type": "code",
   "execution_count": 23,
   "metadata": {},
   "outputs": [
    {
     "data": {
      "text/plain": [
       "\n",
       " Descriptive statistics by group \n",
       "group: new\n",
       "   vars      n  mean   sd median trimmed  mad min max range skew kurtosis   se\n",
       "X1    1 260579 11.77 8.46     10   10.64 7.41   0 105   105 1.39     2.81 0.02\n",
       "   IQR\n",
       "X1  11\n",
       "------------------------------------------------------------ \n",
       "group: not_specified\n",
       "   vars   n mean   sd median trimmed  mad min max range skew kurtosis   se IQR\n",
       "X1    1 356 10.9 7.21     10   10.26 7.41   0  42    42 1.08     1.58 0.38  10\n",
       "------------------------------------------------------------ \n",
       "group: used\n",
       "   vars    n  mean   sd median trimmed  mad min max range skew kurtosis   se\n",
       "X1    1 1023 11.39 8.29     10   10.28 7.41   0  52    52 1.51     3.01 0.26\n",
       "   IQR\n",
       "X1  11"
      ]
     },
     "metadata": {},
     "output_type": "display_data"
    },
    {
     "data": {},
     "metadata": {},
     "output_type": "display_data"
    },
    {
     "data": {},
     "metadata": {},
     "output_type": "display_data"
    },
    {
     "data": {
      "image/png": "[encoded data removed]",
      "text/plain": [
       "plot without title"
      ]
     },
     "metadata": {},
     "output_type": "display_data"
    },
    {
     "data": {
      "image/png": "[encoded data removed]",
      "text/plain": [
       "plot without title"
      ]
     },
     "metadata": {},
     "output_type": "display_data"
    }
   ],
   "source": [
    "describeBy(df$SHP_HEIGHT,df$CONDITION ,IQR=TRUE)\n",
    "\n",
    "ggplot(df, aes(CONDITION, SHP_HEIGHT))+\n",
    "  geom_boxplot(aes(fill=CONDITION))\n",
    "\n",
    "ggplot(df, aes(SHP_HEIGHT )) + \n",
    "  geom_density( aes(fill = CONDITION), alpha=0.3)"
   ]
  },
  {
   "cell_type": "markdown",
   "metadata": {},
   "source": [
    "### Analisis univariado de SHP_HEIGHT discriminando por STATUS"
   ]
  },
  {
   "cell_type": "code",
   "execution_count": 24,
   "metadata": {},
   "outputs": [
    {
     "data": {
      "text/plain": [
       "\n",
       " Descriptive statistics by group \n",
       "group: 404\n",
       "   vars     n  mean   sd median trimmed  mad min max range skew kurtosis   se\n",
       "X1    1 51426 11.67 8.03     10   10.61 7.41   0  80    80 1.44     3.08 0.04\n",
       "   IQR\n",
       "X1  10\n",
       "------------------------------------------------------------ \n",
       "group: active\n",
       "   vars      n  mean   sd median trimmed  mad min max range skew kurtosis   se\n",
       "X1    1 161502 11.76 8.34     10   10.67 7.41   0 105   105 1.31     2.39 0.02\n",
       "   IQR\n",
       "X1  11\n",
       "------------------------------------------------------------ \n",
       "group: closed\n",
       "   vars     n  mean   sd median trimmed  mad min max range skew kurtosis   se\n",
       "X1    1 18442 11.97 9.06     10   10.68 7.41   0  63    63 1.49     2.94 0.07\n",
       "   IQR\n",
       "X1  11\n",
       "------------------------------------------------------------ \n",
       "group: inactive\n",
       "   vars    n mean   sd median trimmed  mad min max range skew kurtosis   se IQR\n",
       "X1    1 3026 9.95 6.88      9    9.04 5.93   0  51    51 1.57     3.82 0.13  10\n",
       "------------------------------------------------------------ \n",
       "group: paused\n",
       "   vars     n  mean   sd median trimmed  mad min max range skew kurtosis   se\n",
       "X1    1 82196 11.75 8.55     10   10.55 7.41   0 100   100  1.5     3.47 0.03\n",
       "   IQR\n",
       "X1  11\n",
       "------------------------------------------------------------ \n",
       "group: under_review\n",
       "   vars     n mean  sd median trimmed  mad min max range skew kurtosis   se IQR\n",
       "X1    1 31159 9.97 7.4      7    8.92 4.45   0  61    61 1.64     3.92 0.04  10"
      ]
     },
     "metadata": {},
     "output_type": "display_data"
    },
    {
     "data": {},
     "metadata": {},
     "output_type": "display_data"
    },
    {
     "data": {},
     "metadata": {},
     "output_type": "display_data"
    },
    {
     "data": {
      "image/png": "[encoded data removed]",
      "text/plain": [
       "plot without title"
      ]
     },
     "metadata": {},
     "output_type": "display_data"
    },
    {
     "data": {
      "image/png": "[encoded data removed]",
      "text/plain": [
       "plot without title"
      ]
     },
     "metadata": {},
     "output_type": "display_data"
    }
   ],
   "source": [
    "describeBy(df$SHP_HEIGHT,df$STATUS ,IQR=TRUE)\n",
    "\n",
    "ggplot(df, aes(STATUS, SHP_HEIGHT))+\n",
    "  geom_boxplot(aes(fill=STATUS))\n",
    "\n",
    "ggplot(df, aes(SHP_HEIGHT )) + \n",
    "  geom_density( aes(fill = STATUS), alpha=0.3)"
   ]
  },
  {
   "cell_type": "markdown",
   "metadata": {},
   "source": [
    "### Conclusiones sobre las distribuciones de las variables a predecir"
   ]
  },
  {
   "cell_type": "markdown",
   "metadata": {},
   "source": [
    "Se aprecia que las cuatro variables a predecir tienen distribuciones con asimetría izquierda bastante marcada, especialmente el peso de los productos. Adempas las cuatro distribuciones son leptocúrticas o sea mas puntiagudas de que la distribución normal. También puede decirse que las variables no tienen distribuciones tan heterogéneas como se podría esperar, pero sí presentan múltiples outliers."
   ]
  }
 ],
 "metadata": {
  "kernelspec": {
   "display_name": "R",
   "language": "R",
   "name": "ir"
  },
  "language_info": {
   "codemirror_mode": "r",
   "file_extension": ".r",
   "mimetype": "text/x-r-source",
   "name": "R",
   "pygments_lexer": "r",
   "version": "3.5.1"
  }
 },
 "nbformat": 4,
 "nbformat_minor": 2
}
